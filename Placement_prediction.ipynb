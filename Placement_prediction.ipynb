{
  "nbformat": 4,
  "nbformat_minor": 0,
  "metadata": {
    "colab": {
      "name": "Placement prediction",
      "provenance": [],
      "collapsed_sections": [
        "7wgoqsf79UUN"
      ]
    },
    "kernelspec": {
      "name": "python3",
      "display_name": "Python 3"
    }
  },
  "cells": [
    {
      "cell_type": "markdown",
      "metadata": {
        "id": "tu8FRjme5eOF"
      },
      "source": [
        "**REVIEW 3 - FINAL** "
      ]
    },
    {
      "cell_type": "markdown",
      "metadata": {
        "id": "7wgoqsf79UUN"
      },
      "source": [
        "# Library"
      ]
    },
    {
      "cell_type": "code",
      "metadata": {
        "id": "LTDrFNJOVEFZ"
      },
      "source": [
        "import pandas as pd\n",
        "import matplotlib.pyplot as plt\n",
        "import seaborn as sns\n",
        "import numpy as np\n",
        "from sklearn.model_selection import train_test_split\n",
        "from sklearn.linear_model import LogisticRegression\n",
        "from sklearn.metrics import confusion_matrix, classification_report, accuracy_score\n",
        "from sklearn.ensemble import RandomForestClassifier\n",
        "from sklearn.metrics import make_scorer, accuracy_score,precision_score\n",
        "from sklearn.metrics import classification_report\n",
        "from sklearn.metrics import confusion_matrix\n",
        "from sklearn.metrics import accuracy_score ,precision_score,recall_score,f1_score\n",
        "from sklearn.metrics import roc_curve\n",
        "from sklearn.metrics import roc_auc_score\n",
        "from sklearn.model_selection import train_test_split\n",
        "from sklearn.linear_model import  LogisticRegression\n",
        "from sklearn.ensemble import RandomForestClassifier\n",
        "from sklearn.neighbors import KNeighborsClassifier\n",
        "from sklearn.svm import SVC, LinearSVC\n",
        "from sklearn.naive_bayes import GaussianNB\n",
        "from sklearn.preprocessing import MinMaxScaler\n",
        "import statsmodels.api as sm\n",
        "import warnings\n",
        "warnings.filterwarnings('ignore')"
      ],
      "execution_count": null,
      "outputs": []
    },
    {
      "cell_type": "markdown",
      "metadata": {
        "id": "JeT9QwcUU9t3"
      },
      "source": [
        "# Classification"
      ]
    },
    {
      "cell_type": "code",
      "metadata": {
        "id": "yM627l-AVD27",
        "colab": {
          "base_uri": "https://localhost:8080/",
          "height": 195
        },
        "outputId": "6acfa657-2a08-4750-cf57-3d66017b7d9a"
      },
      "source": [
        "data=pd.read_csv(\"/content/Placement_data.csv\")\n",
        "data.head()"
      ],
      "execution_count": null,
      "outputs": [
        {
          "output_type": "execute_result",
          "data": {
            "text/html": [
              "<div>\n",
              "<style scoped>\n",
              "    .dataframe tbody tr th:only-of-type {\n",
              "        vertical-align: middle;\n",
              "    }\n",
              "\n",
              "    .dataframe tbody tr th {\n",
              "        vertical-align: top;\n",
              "    }\n",
              "\n",
              "    .dataframe thead th {\n",
              "        text-align: right;\n",
              "    }\n",
              "</style>\n",
              "<table border=\"1\" class=\"dataframe\">\n",
              "  <thead>\n",
              "    <tr style=\"text-align: right;\">\n",
              "      <th></th>\n",
              "      <th>gender</th>\n",
              "      <th>ssc_p</th>\n",
              "      <th>ssc_b</th>\n",
              "      <th>hsc_p</th>\n",
              "      <th>hsc_b</th>\n",
              "      <th>hsc_s</th>\n",
              "      <th>degree_p</th>\n",
              "      <th>degree_t</th>\n",
              "      <th>workex</th>\n",
              "      <th>etest_p</th>\n",
              "      <th>specialisation</th>\n",
              "      <th>mba_p</th>\n",
              "      <th>status</th>\n",
              "      <th>salary</th>\n",
              "    </tr>\n",
              "  </thead>\n",
              "  <tbody>\n",
              "    <tr>\n",
              "      <th>0</th>\n",
              "      <td>M</td>\n",
              "      <td>67.00</td>\n",
              "      <td>Others</td>\n",
              "      <td>91.00</td>\n",
              "      <td>Others</td>\n",
              "      <td>Commerce</td>\n",
              "      <td>58.00</td>\n",
              "      <td>Sci&amp;Tech</td>\n",
              "      <td>No</td>\n",
              "      <td>55.0</td>\n",
              "      <td>Mkt&amp;HR</td>\n",
              "      <td>58.80</td>\n",
              "      <td>Placed</td>\n",
              "      <td>270000.0</td>\n",
              "    </tr>\n",
              "    <tr>\n",
              "      <th>1</th>\n",
              "      <td>M</td>\n",
              "      <td>79.33</td>\n",
              "      <td>Central</td>\n",
              "      <td>78.33</td>\n",
              "      <td>Others</td>\n",
              "      <td>Science</td>\n",
              "      <td>77.48</td>\n",
              "      <td>Sci&amp;Tech</td>\n",
              "      <td>Yes</td>\n",
              "      <td>86.5</td>\n",
              "      <td>Mkt&amp;Fin</td>\n",
              "      <td>66.28</td>\n",
              "      <td>Placed</td>\n",
              "      <td>200000.0</td>\n",
              "    </tr>\n",
              "    <tr>\n",
              "      <th>2</th>\n",
              "      <td>M</td>\n",
              "      <td>65.00</td>\n",
              "      <td>Central</td>\n",
              "      <td>68.00</td>\n",
              "      <td>Central</td>\n",
              "      <td>Arts</td>\n",
              "      <td>64.00</td>\n",
              "      <td>Comm&amp;Mgmt</td>\n",
              "      <td>No</td>\n",
              "      <td>75.0</td>\n",
              "      <td>Mkt&amp;Fin</td>\n",
              "      <td>57.80</td>\n",
              "      <td>Placed</td>\n",
              "      <td>250000.0</td>\n",
              "    </tr>\n",
              "    <tr>\n",
              "      <th>3</th>\n",
              "      <td>M</td>\n",
              "      <td>56.00</td>\n",
              "      <td>Central</td>\n",
              "      <td>52.00</td>\n",
              "      <td>Central</td>\n",
              "      <td>Science</td>\n",
              "      <td>52.00</td>\n",
              "      <td>Sci&amp;Tech</td>\n",
              "      <td>No</td>\n",
              "      <td>66.0</td>\n",
              "      <td>Mkt&amp;HR</td>\n",
              "      <td>59.43</td>\n",
              "      <td>Not Placed</td>\n",
              "      <td>NaN</td>\n",
              "    </tr>\n",
              "    <tr>\n",
              "      <th>4</th>\n",
              "      <td>M</td>\n",
              "      <td>85.80</td>\n",
              "      <td>Central</td>\n",
              "      <td>73.60</td>\n",
              "      <td>Central</td>\n",
              "      <td>Commerce</td>\n",
              "      <td>73.30</td>\n",
              "      <td>Comm&amp;Mgmt</td>\n",
              "      <td>No</td>\n",
              "      <td>96.8</td>\n",
              "      <td>Mkt&amp;Fin</td>\n",
              "      <td>55.50</td>\n",
              "      <td>Placed</td>\n",
              "      <td>425000.0</td>\n",
              "    </tr>\n",
              "  </tbody>\n",
              "</table>\n",
              "</div>"
            ],
            "text/plain": [
              "  gender  ssc_p    ssc_b  hsc_p  ... specialisation  mba_p      status    salary\n",
              "0      M  67.00   Others  91.00  ...         Mkt&HR  58.80      Placed  270000.0\n",
              "1      M  79.33  Central  78.33  ...        Mkt&Fin  66.28      Placed  200000.0\n",
              "2      M  65.00  Central  68.00  ...        Mkt&Fin  57.80      Placed  250000.0\n",
              "3      M  56.00  Central  52.00  ...         Mkt&HR  59.43  Not Placed       NaN\n",
              "4      M  85.80  Central  73.60  ...        Mkt&Fin  55.50      Placed  425000.0\n",
              "\n",
              "[5 rows x 14 columns]"
            ]
          },
          "metadata": {
            "tags": []
          },
          "execution_count": 4
        }
      ]
    },
    {
      "cell_type": "code",
      "metadata": {
        "id": "i_MfPh9gVWHi"
      },
      "source": [
        "data[\"gender\"] = data.gender.map({\"M\":0,\"F\":1})\n",
        "data[\"ssc_b\"] = data.ssc_b.map({\"Others\":0,\"Central\":1})\n",
        "data[\"hsc_b\"] = data.hsc_b.map({\"Others\":0,\"Central\":1})\n",
        "data[\"hsc_s\"] = data.hsc_s.map({\"Commerce\":0,\"Science\":1,\"Arts\":2})\n",
        "data[\"degree_t\"] = data.degree_t.map({\"Comm&Mgmt\":0,\"Sci&Tech\":1, \"Others\":2})\n",
        "data[\"workex\"] = data.workex.map({\"No\":0, \"Yes\":1})\n",
        "data[\"status\"] = data.status.map({\"Not Placed\":0, \"Placed\":1})\n",
        "data[\"specialisation\"] = data.specialisation.map({\"Mkt&HR\":0, \"Mkt&Fin\":1})"
      ],
      "execution_count": null,
      "outputs": []
    },
    {
      "cell_type": "code",
      "metadata": {
        "id": "K_kTLBZXVWMO"
      },
      "source": [
        "# Seperating Features and Target\n",
        "X = data[[ 'ssc_p', 'hsc_p', 'hsc_s', 'degree_p',  'workex','etest_p', 'specialisation', 'mba_p',]]\n",
        "#2,4,6,7,9,10,11,12\n",
        "y = data['status']\n",
        "X_train, X_test, y_train, y_test = train_test_split(X, y, test_size=0.3, random_state=42,stratify =y)"
      ],
      "execution_count": null,
      "outputs": []
    },
    {
      "cell_type": "code",
      "metadata": {
        "id": "9qsDzz2oVWm9"
      },
      "source": [
        "def confusion_matrix_pd_convertor(y,y_pred):\n",
        "  cf_matrix = confusion_matrix(y, y_pred)\n",
        "  return cf_matrix\n",
        "def plot_cf(cf_matrix):\n",
        "  fig = plt.figure(figsize=(10,7))\n",
        "  group_names = ['True Neg','False Pos','False Neg','True Pos']\n",
        "  group_counts = [\"{0:0.0f}\".format(value) for value in\n",
        "                  cf_matrix.flatten()]\n",
        "  group_percentages = [\"{0:.2%}\".format(value) for value in\n",
        "                      cf_matrix.flatten()/np.sum(cf_matrix)]\n",
        "  labels = [f\"{v1}\\n{v2}\\n{v3}\" for v1, v2, v3 in\n",
        "            zip(group_names,group_counts,group_percentages)]\n",
        "  labels = np.asarray(labels).reshape(2,2)\n",
        "  sns.heatmap(cf_matrix, annot=labels, annot_kws={\"size\": 16}, fmt='')\n",
        "  plt.title(\"Confusion Matrix\")\n",
        "  plt.xlabel(\"Predicted Label\")\n",
        "  plt.ylabel(\"True Label\")\n",
        "  plt.show()"
      ],
      "execution_count": null,
      "outputs": []
    },
    {
      "cell_type": "markdown",
      "metadata": {
        "id": "2T6gqVphV1iZ"
      },
      "source": [
        "From Review 2 we learnt that the best 3 Classifiers are Naive Bayes, KNN and Random Forest"
      ]
    },
    {
      "cell_type": "code",
      "metadata": {
        "id": "7UUm4Lp0VWFG",
        "colab": {
          "base_uri": "https://localhost:8080/",
          "height": 458
        },
        "outputId": "09d0dabe-6f02-4705-c2fb-c7319d377f3b"
      },
      "source": [
        "#Naive Bayes\n",
        "gaussian = GaussianNB()\n",
        "gaussian.fit(X_train, y_train)\n",
        "gau_pred = gaussian.predict(X_test) \n",
        "acc_gaussian = round(gaussian.score(X_train, y_train) * 100, 2)\n",
        "d=confusion_matrix_pd_convertor(y_test,gau_pred)\n",
        "plot_cf(d)"
      ],
      "execution_count": null,
      "outputs": [
        {
          "output_type": "display_data",
          "data": {
            "image/png": "[encoded data removed]",
            "text/plain": [
              "<Figure size 720x504 with 2 Axes>"
            ]
          },
          "metadata": {
            "tags": [],
            "needs_background": "light"
          }
        }
      ]
    },
    {
      "cell_type": "code",
      "metadata": {
        "id": "XOvvjIBHVh9V",
        "colab": {
          "base_uri": "https://localhost:8080/",
          "height": 458
        },
        "outputId": "d7428559-fd56-49cc-e0d4-328ffc5125e7"
      },
      "source": [
        "#KNN\n",
        "knn = KNeighborsClassifier(n_neighbors = 10)\n",
        "knn.fit(X_train, y_train)\n",
        "knn_pred = knn.predict(X_test) \n",
        "acc_knn = round(knn.score(X_train, y_train) * 100, 2)\n",
        "c=confusion_matrix_pd_convertor(y_test,knn_pred)\n",
        "plot_cf(c)"
      ],
      "execution_count": null,
      "outputs": [
        {
          "output_type": "display_data",
          "data": {
            "image/png": "[encoded data removed]",
            "text/plain": [
              "<Figure size 720x504 with 2 Axes>"
            ]
          },
          "metadata": {
            "tags": [],
            "needs_background": "light"
          }
        }
      ]
    },
    {
      "cell_type": "code",
      "metadata": {
        "id": "WxKzSz5pViNC",
        "colab": {
          "base_uri": "https://localhost:8080/",
          "height": 458
        },
        "outputId": "f31a6183-cbab-495e-9ef1-ce42c7ec3296"
      },
      "source": [
        "#Random Forest\n",
        "random_forest = RandomForestClassifier(n_estimators=200,criterion='gini',\n",
        " max_depth= 4 ,\n",
        " max_features= 'auto',random_state=42)\n",
        "random_forest.fit(X_train, y_train)\n",
        "ran_pred = random_forest.predict(X_test)\n",
        "\n",
        "random_forest.score(X_train, y_train)\n",
        "acc_random_forest = round(random_forest.score(X_train, y_train) * 100, 2)\n",
        "b=confusion_matrix_pd_convertor(y_test,ran_pred)\n",
        "plot_cf(b)"
      ],
      "execution_count": null,
      "outputs": [
        {
          "output_type": "display_data",
          "data": {
            "image/png": "[encoded data removed]",
            "text/plain": [
              "<Figure size 720x504 with 2 Axes>"
            ]
          },
          "metadata": {
            "tags": [],
            "needs_background": "light"
          }
        }
      ]
    },
    {
      "cell_type": "code",
      "metadata": {
        "id": "AdWQ0_FpViHA",
        "colab": {
          "base_uri": "https://localhost:8080/",
          "height": 521
        },
        "outputId": "5e62993e-9348-45ae-f0e7-225ff208ce66"
      },
      "source": [
        "# Training a voting classifier with hard voting and using logistic regression and decision trees as estimators\n",
        "from sklearn.ensemble import VotingClassifier\n",
        "named_estimators = [\n",
        "    (\"Random Forest\",random_forest),\n",
        "    (\"Naive Bayes\",gaussian),\n",
        "    (\"KNN Classifier\",knn),\n",
        "]\n",
        "voting_clf = VotingClassifier(named_estimators)\n",
        "voting_clf.fit(X_train,y_train)"
      ],
      "execution_count": null,
      "outputs": [
        {
          "output_type": "execute_result",
          "data": {
            "text/plain": [
              "VotingClassifier(estimators=[('Random Forest',\n",
              "                              RandomForestClassifier(bootstrap=True,\n",
              "                                                     ccp_alpha=0.0,\n",
              "                                                     class_weight=None,\n",
              "                                                     criterion='gini',\n",
              "                                                     max_depth=4,\n",
              "                                                     max_features='auto',\n",
              "                                                     max_leaf_nodes=None,\n",
              "                                                     max_samples=None,\n",
              "                                                     min_impurity_decrease=0.0,\n",
              "                                                     min_impurity_split=None,\n",
              "                                                     min_samples_leaf=1,\n",
              "                                                     min_samples_split=2,\n",
              "                                                     min_weight_fraction_leaf=0.0,\n",
              "                                                     n_estimators=200,\n",
              "                                                     n_jobs=None,\n",
              "                                                     oob_score=False,\n",
              "                                                     random_state=42, verbose=0,\n",
              "                                                     warm_start=False)),\n",
              "                             ('Naive Bayes',\n",
              "                              GaussianNB(priors=None, var_smoothing=1e-09)),\n",
              "                             ('KNN Classifier',\n",
              "                              KNeighborsClassifier(algorithm='auto',\n",
              "                                                   leaf_size=30,\n",
              "                                                   metric='minkowski',\n",
              "                                                   metric_params=None,\n",
              "                                                   n_jobs=None, n_neighbors=10,\n",
              "                                                   p=2, weights='uniform'))],\n",
              "                 flatten_transform=True, n_jobs=None, voting='hard',\n",
              "                 weights=None)"
            ]
          },
          "metadata": {
            "tags": []
          },
          "execution_count": 11
        }
      ]
    },
    {
      "cell_type": "code",
      "metadata": {
        "id": "slyxpwLNVh2q",
        "colab": {
          "base_uri": "https://localhost:8080/",
          "height": 34
        },
        "outputId": "dad84017-ae76-439d-8e78-168d85a610f1"
      },
      "source": [
        "# Accuracy\n",
        "acc = voting_clf.score(X_test,y_test)\n",
        "print(f\"The accuracy on test set using voting classifier is {np.round(acc, 4)*100}%\")"
      ],
      "execution_count": null,
      "outputs": [
        {
          "output_type": "stream",
          "text": [
            "The accuracy on test set using voting classifier is 89.23%\n"
          ],
          "name": "stdout"
        }
      ]
    },
    {
      "cell_type": "markdown",
      "metadata": {
        "id": "uqkDjEkzU5Ra"
      },
      "source": [
        "# Regression"
      ]
    },
    {
      "cell_type": "code",
      "metadata": {
        "id": "sokWFQSiJFzy"
      },
      "source": [
        "#Regression\n",
        "data_reg=pd.read_csv(\"/content/Placement_Data_Full_Class.csv\")"
      ],
      "execution_count": null,
      "outputs": []
    },
    {
      "cell_type": "code",
      "metadata": {
        "id": "mB1joPnteCMt"
      },
      "source": [
        "data_reg.drop(['ssc_b','hsc_b'], axis=1, inplace=True)"
      ],
      "execution_count": null,
      "outputs": []
    },
    {
      "cell_type": "code",
      "metadata": {
        "id": "KEmBfE5xeFCp"
      },
      "source": [
        "data_reg[\"gender\"] = data_reg.gender.map({\"M\":0,\"F\":1})\n",
        "data_reg[\"hsc_s\"] = data_reg.hsc_s.map({\"Commerce\":0,\"Science\":1,\"Arts\":2})\n",
        "data_reg[\"degree_t\"] = data_reg.degree_t.map({\"Comm&Mgmt\":0,\"Sci&Tech\":1, \"Others\":2})\n",
        "data_reg[\"workex\"] = data_reg.workex.map({\"No\":0, \"Yes\":1})\n",
        "data_reg[\"status\"] = data_reg.status.map({\"Not Placed\":0, \"Placed\":1})\n",
        "data_reg[\"specialisation\"] = data_reg.specialisation.map({\"Mkt&HR\":0, \"Mkt&Fin\":1})"
      ],
      "execution_count": null,
      "outputs": []
    },
    {
      "cell_type": "code",
      "metadata": {
        "id": "TFPMoTmMdWbB"
      },
      "source": [
        "#dropping NaNs (in Salary)\n",
        "data_reg.dropna(inplace=True)\n",
        "#dropping Status = \"Placed\" column\n",
        "data_reg.drop(\"status\", axis=1, inplace=True)"
      ],
      "execution_count": null,
      "outputs": []
    },
    {
      "cell_type": "code",
      "metadata": {
        "id": "K03NJpP5edOs",
        "colab": {
          "base_uri": "https://localhost:8080/",
          "height": 195
        },
        "outputId": "184f2844-a664-4170-baf8-717e6d3ebd47"
      },
      "source": [
        "data_reg.head()"
      ],
      "execution_count": null,
      "outputs": [
        {
          "output_type": "execute_result",
          "data": {
            "text/html": [
              "<div>\n",
              "<style scoped>\n",
              "    .dataframe tbody tr th:only-of-type {\n",
              "        vertical-align: middle;\n",
              "    }\n",
              "\n",
              "    .dataframe tbody tr th {\n",
              "        vertical-align: top;\n",
              "    }\n",
              "\n",
              "    .dataframe thead th {\n",
              "        text-align: right;\n",
              "    }\n",
              "</style>\n",
              "<table border=\"1\" class=\"dataframe\">\n",
              "  <thead>\n",
              "    <tr style=\"text-align: right;\">\n",
              "      <th></th>\n",
              "      <th>sl_no</th>\n",
              "      <th>gender</th>\n",
              "      <th>ssc_p</th>\n",
              "      <th>hsc_p</th>\n",
              "      <th>hsc_s</th>\n",
              "      <th>degree_p</th>\n",
              "      <th>degree_t</th>\n",
              "      <th>workex</th>\n",
              "      <th>etest_p</th>\n",
              "      <th>specialisation</th>\n",
              "      <th>mba_p</th>\n",
              "      <th>salary</th>\n",
              "    </tr>\n",
              "  </thead>\n",
              "  <tbody>\n",
              "    <tr>\n",
              "      <th>0</th>\n",
              "      <td>1</td>\n",
              "      <td>0</td>\n",
              "      <td>67.00</td>\n",
              "      <td>91.00</td>\n",
              "      <td>0</td>\n",
              "      <td>58.00</td>\n",
              "      <td>1</td>\n",
              "      <td>0</td>\n",
              "      <td>55.0</td>\n",
              "      <td>0</td>\n",
              "      <td>58.80</td>\n",
              "      <td>270000.0</td>\n",
              "    </tr>\n",
              "    <tr>\n",
              "      <th>1</th>\n",
              "      <td>2</td>\n",
              "      <td>0</td>\n",
              "      <td>79.33</td>\n",
              "      <td>78.33</td>\n",
              "      <td>1</td>\n",
              "      <td>77.48</td>\n",
              "      <td>1</td>\n",
              "      <td>1</td>\n",
              "      <td>86.5</td>\n",
              "      <td>1</td>\n",
              "      <td>66.28</td>\n",
              "      <td>200000.0</td>\n",
              "    </tr>\n",
              "    <tr>\n",
              "      <th>2</th>\n",
              "      <td>3</td>\n",
              "      <td>0</td>\n",
              "      <td>65.00</td>\n",
              "      <td>68.00</td>\n",
              "      <td>2</td>\n",
              "      <td>64.00</td>\n",
              "      <td>0</td>\n",
              "      <td>0</td>\n",
              "      <td>75.0</td>\n",
              "      <td>1</td>\n",
              "      <td>57.80</td>\n",
              "      <td>250000.0</td>\n",
              "    </tr>\n",
              "    <tr>\n",
              "      <th>4</th>\n",
              "      <td>5</td>\n",
              "      <td>0</td>\n",
              "      <td>85.80</td>\n",
              "      <td>73.60</td>\n",
              "      <td>0</td>\n",
              "      <td>73.30</td>\n",
              "      <td>0</td>\n",
              "      <td>0</td>\n",
              "      <td>96.8</td>\n",
              "      <td>1</td>\n",
              "      <td>55.50</td>\n",
              "      <td>425000.0</td>\n",
              "    </tr>\n",
              "    <tr>\n",
              "      <th>7</th>\n",
              "      <td>8</td>\n",
              "      <td>0</td>\n",
              "      <td>82.00</td>\n",
              "      <td>64.00</td>\n",
              "      <td>1</td>\n",
              "      <td>66.00</td>\n",
              "      <td>1</td>\n",
              "      <td>1</td>\n",
              "      <td>67.0</td>\n",
              "      <td>1</td>\n",
              "      <td>62.14</td>\n",
              "      <td>252000.0</td>\n",
              "    </tr>\n",
              "  </tbody>\n",
              "</table>\n",
              "</div>"
            ],
            "text/plain": [
              "   sl_no  gender  ssc_p  hsc_p  ...  etest_p  specialisation  mba_p    salary\n",
              "0      1       0  67.00  91.00  ...     55.0               0  58.80  270000.0\n",
              "1      2       0  79.33  78.33  ...     86.5               1  66.28  200000.0\n",
              "2      3       0  65.00  68.00  ...     75.0               1  57.80  250000.0\n",
              "4      5       0  85.80  73.60  ...     96.8               1  55.50  425000.0\n",
              "7      8       0  82.00  64.00  ...     67.0               1  62.14  252000.0\n",
              "\n",
              "[5 rows x 12 columns]"
            ]
          },
          "metadata": {
            "tags": []
          },
          "execution_count": 17
        }
      ]
    },
    {
      "cell_type": "code",
      "metadata": {
        "id": "G7_GT34Oeisa"
      },
      "source": [
        "#Seperating Depencent and Independent Vaiiables\n",
        "y = data_reg[\"salary\"] #Dependent Variable\n",
        "X = data_reg.drop(\"salary\", axis=1)\n",
        "column_names = X.columns.values"
      ],
      "execution_count": null,
      "outputs": []
    },
    {
      "cell_type": "code",
      "metadata": {
        "id": "hZuxyyGMenhu"
      },
      "source": [
        "#Scalizing between 0-1 (Normalization)\n",
        "X_scaled = MinMaxScaler().fit_transform(X)"
      ],
      "execution_count": null,
      "outputs": []
    },
    {
      "cell_type": "code",
      "metadata": {
        "id": "pqF3aR4zeq5e",
        "colab": {
          "base_uri": "https://localhost:8080/",
          "height": 290
        },
        "outputId": "2eb53a77-7d47-4137-aeac-c08d61dfbed9"
      },
      "source": [
        "#PDF of Salary\n",
        "sns.kdeplot(y)\n",
        "plt.show()"
      ],
      "execution_count": null,
      "outputs": [
        {
          "output_type": "display_data",
          "data": {
            "image/png": "[encoded data removed]",
            "text/plain": [
              "<Figure size 432x288 with 1 Axes>"
            ]
          },
          "metadata": {
            "tags": [],
            "needs_background": "light"
          }
        }
      ]
    },
    {
      "cell_type": "code",
      "metadata": {
        "id": "l2Y2Oj3resYw",
        "colab": {
          "base_uri": "https://localhost:8080/",
          "height": 202
        },
        "outputId": "f35e29ea-953f-4488-ac5f-5ce338393afb"
      },
      "source": [
        "#Selecting outliers\n",
        "y[y > 400000]\n",
        "# 9 records"
      ],
      "execution_count": null,
      "outputs": [
        {
          "output_type": "execute_result",
          "data": {
            "text/plain": [
              "4      425000.0\n",
              "39     411000.0\n",
              "53     450000.0\n",
              "77     500000.0\n",
              "95     420000.0\n",
              "119    940000.0\n",
              "150    690000.0\n",
              "163    500000.0\n",
              "174    500000.0\n",
              "177    650000.0\n",
              "Name: salary, dtype: float64"
            ]
          },
          "metadata": {
            "tags": []
          },
          "execution_count": 21
        }
      ]
    },
    {
      "cell_type": "code",
      "metadata": {
        "id": "pvsGOpHBesb6"
      },
      "source": [
        "#Removing these Records from data\n",
        "X_scaled = X_scaled[y < 400000]\n",
        "y = y[y < 400000]"
      ],
      "execution_count": null,
      "outputs": []
    },
    {
      "cell_type": "code",
      "metadata": {
        "id": "QMXcBhJVesfA",
        "colab": {
          "base_uri": "https://localhost:8080/",
          "height": 290
        },
        "outputId": "f779cd6c-dff7-47d3-a854-cd1a6ec8e9c3"
      },
      "source": [
        "#PDF of Salary without outliers. Still skewed though\n",
        "sns.kdeplot(y)\n",
        "plt.show()"
      ],
      "execution_count": null,
      "outputs": [
        {
          "output_type": "display_data",
          "data": {
            "image/png": "[encoded data removed]",
            "text/plain": [
              "<Figure size 432x288 with 1 Axes>"
            ]
          },
          "metadata": {
            "tags": [],
            "needs_background": "light"
          }
        }
      ]
    },
    {
      "cell_type": "code",
      "metadata": {
        "id": "Dhi23yl0esiV",
        "colab": {
          "base_uri": "https://localhost:8080/",
          "height": 195
        },
        "outputId": "33a3843b-4d42-4c56-9040-d602a32fe035"
      },
      "source": [
        "#Converting to DF for as  column names gives readibility\n",
        "X_scaled = pd.DataFrame(X_scaled, columns=column_names)\n",
        "# We must add a constants 1s for intercept before doing Linear Regression with statsmodel\n",
        "X_scaled = sm.add_constant(X_scaled)\n",
        "X_scaled.head()\n",
        "#Constants 1 added for intercept term"
      ],
      "execution_count": null,
      "outputs": [
        {
          "output_type": "execute_result",
          "data": {
            "text/html": [
              "<div>\n",
              "<style scoped>\n",
              "    .dataframe tbody tr th:only-of-type {\n",
              "        vertical-align: middle;\n",
              "    }\n",
              "\n",
              "    .dataframe tbody tr th {\n",
              "        vertical-align: top;\n",
              "    }\n",
              "\n",
              "    .dataframe thead th {\n",
              "        text-align: right;\n",
              "    }\n",
              "</style>\n",
              "<table border=\"1\" class=\"dataframe\">\n",
              "  <thead>\n",
              "    <tr style=\"text-align: right;\">\n",
              "      <th></th>\n",
              "      <th>const</th>\n",
              "      <th>sl_no</th>\n",
              "      <th>gender</th>\n",
              "      <th>ssc_p</th>\n",
              "      <th>hsc_p</th>\n",
              "      <th>hsc_s</th>\n",
              "      <th>degree_p</th>\n",
              "      <th>degree_t</th>\n",
              "      <th>workex</th>\n",
              "      <th>etest_p</th>\n",
              "      <th>specialisation</th>\n",
              "      <th>mba_p</th>\n",
              "    </tr>\n",
              "  </thead>\n",
              "  <tbody>\n",
              "    <tr>\n",
              "      <th>0</th>\n",
              "      <td>1.0</td>\n",
              "      <td>0.000000</td>\n",
              "      <td>0.0</td>\n",
              "      <td>0.445545</td>\n",
              "      <td>0.857051</td>\n",
              "      <td>0.0</td>\n",
              "      <td>0.057143</td>\n",
              "      <td>0.5</td>\n",
              "      <td>0.0</td>\n",
              "      <td>0.104167</td>\n",
              "      <td>0.0</td>\n",
              "      <td>0.251666</td>\n",
              "    </tr>\n",
              "    <tr>\n",
              "      <th>1</th>\n",
              "      <td>1.0</td>\n",
              "      <td>0.004695</td>\n",
              "      <td>0.0</td>\n",
              "      <td>0.750743</td>\n",
              "      <td>0.586729</td>\n",
              "      <td>0.5</td>\n",
              "      <td>0.613714</td>\n",
              "      <td>0.5</td>\n",
              "      <td>1.0</td>\n",
              "      <td>0.760417</td>\n",
              "      <td>1.0</td>\n",
              "      <td>0.544884</td>\n",
              "    </tr>\n",
              "    <tr>\n",
              "      <th>2</th>\n",
              "      <td>1.0</td>\n",
              "      <td>0.009390</td>\n",
              "      <td>0.0</td>\n",
              "      <td>0.396040</td>\n",
              "      <td>0.366332</td>\n",
              "      <td>1.0</td>\n",
              "      <td>0.228571</td>\n",
              "      <td>0.0</td>\n",
              "      <td>0.0</td>\n",
              "      <td>0.520833</td>\n",
              "      <td>1.0</td>\n",
              "      <td>0.212466</td>\n",
              "    </tr>\n",
              "    <tr>\n",
              "      <th>3</th>\n",
              "      <td>1.0</td>\n",
              "      <td>0.032864</td>\n",
              "      <td>0.0</td>\n",
              "      <td>0.816832</td>\n",
              "      <td>0.280990</td>\n",
              "      <td>0.5</td>\n",
              "      <td>0.285714</td>\n",
              "      <td>0.5</td>\n",
              "      <td>1.0</td>\n",
              "      <td>0.354167</td>\n",
              "      <td>1.0</td>\n",
              "      <td>0.382595</td>\n",
              "    </tr>\n",
              "    <tr>\n",
              "      <th>4</th>\n",
              "      <td>1.0</td>\n",
              "      <td>0.037559</td>\n",
              "      <td>0.0</td>\n",
              "      <td>0.594059</td>\n",
              "      <td>0.601024</td>\n",
              "      <td>0.0</td>\n",
              "      <td>0.457143</td>\n",
              "      <td>0.0</td>\n",
              "      <td>0.0</td>\n",
              "      <td>0.861250</td>\n",
              "      <td>1.0</td>\n",
              "      <td>0.349275</td>\n",
              "    </tr>\n",
              "  </tbody>\n",
              "</table>\n",
              "</div>"
            ],
            "text/plain": [
              "   const     sl_no  gender  ...   etest_p  specialisation     mba_p\n",
              "0    1.0  0.000000     0.0  ...  0.104167             0.0  0.251666\n",
              "1    1.0  0.004695     0.0  ...  0.760417             1.0  0.544884\n",
              "2    1.0  0.009390     0.0  ...  0.520833             1.0  0.212466\n",
              "3    1.0  0.032864     0.0  ...  0.354167             1.0  0.382595\n",
              "4    1.0  0.037559     0.0  ...  0.861250             1.0  0.349275\n",
              "\n",
              "[5 rows x 12 columns]"
            ]
          },
          "metadata": {
            "tags": []
          },
          "execution_count": 24
        }
      ]
    },
    {
      "cell_type": "code",
      "metadata": {
        "id": "2XviaTgwcDMc"
      },
      "source": [
        "y=list(y)"
      ],
      "execution_count": null,
      "outputs": []
    },
    {
      "cell_type": "code",
      "metadata": {
        "id": "7_Lmrmy2e5iM",
        "colab": {
          "base_uri": "https://localhost:8080/",
          "height": 626
        },
        "outputId": "99637706-b568-4742-92b4-46afadca0f14"
      },
      "source": [
        "# Step 1: With all Features\n",
        "model = sm.OLS(y, X_scaled)\n",
        "results = model.fit()\n",
        "results.summary()"
      ],
      "execution_count": null,
      "outputs": [
        {
          "output_type": "execute_result",
          "data": {
            "text/html": [
              "<table class=\"simpletable\">\n",
              "<caption>OLS Regression Results</caption>\n",
              "<tr>\n",
              "  <th>Dep. Variable:</th>            <td>y</td>        <th>  R-squared:         </th> <td>   0.129</td>\n",
              "</tr>\n",
              "<tr>\n",
              "  <th>Model:</th>                   <td>OLS</td>       <th>  Adj. R-squared:    </th> <td>   0.050</td>\n",
              "</tr>\n",
              "<tr>\n",
              "  <th>Method:</th>             <td>Least Squares</td>  <th>  F-statistic:       </th> <td>   1.635</td>\n",
              "</tr>\n",
              "<tr>\n",
              "  <th>Date:</th>             <td>Tue, 27 Oct 2020</td> <th>  Prob (F-statistic):</th>  <td>0.0969</td> \n",
              "</tr>\n",
              "<tr>\n",
              "  <th>Time:</th>                 <td>16:35:00</td>     <th>  Log-Likelihood:    </th> <td> -1608.0</td>\n",
              "</tr>\n",
              "<tr>\n",
              "  <th>No. Observations:</th>      <td>   134</td>      <th>  AIC:               </th> <td>   3240.</td>\n",
              "</tr>\n",
              "<tr>\n",
              "  <th>Df Residuals:</th>          <td>   122</td>      <th>  BIC:               </th> <td>   3275.</td>\n",
              "</tr>\n",
              "<tr>\n",
              "  <th>Df Model:</th>              <td>    11</td>      <th>                     </th>     <td> </td>   \n",
              "</tr>\n",
              "<tr>\n",
              "  <th>Covariance Type:</th>      <td>nonrobust</td>    <th>                     </th>     <td> </td>   \n",
              "</tr>\n",
              "</table>\n",
              "<table class=\"simpletable\">\n",
              "<tr>\n",
              "         <td></td>           <th>coef</th>     <th>std err</th>      <th>t</th>      <th>P>|t|</th>  <th>[0.025</th>    <th>0.975]</th>  \n",
              "</tr>\n",
              "<tr>\n",
              "  <th>const</th>          <td> 2.709e+05</td> <td> 1.59e+04</td> <td>   17.069</td> <td> 0.000</td> <td> 2.39e+05</td> <td> 3.02e+05</td>\n",
              "</tr>\n",
              "<tr>\n",
              "  <th>sl_no</th>          <td>-1.206e+04</td> <td> 1.35e+04</td> <td>   -0.891</td> <td> 0.374</td> <td>-3.89e+04</td> <td> 1.47e+04</td>\n",
              "</tr>\n",
              "<tr>\n",
              "  <th>gender</th>         <td>-1.812e+04</td> <td> 8312.977</td> <td>   -2.180</td> <td> 0.031</td> <td>-3.46e+04</td> <td>-1662.099</td>\n",
              "</tr>\n",
              "<tr>\n",
              "  <th>ssc_p</th>          <td> -510.6732</td> <td> 2.04e+04</td> <td>   -0.025</td> <td> 0.980</td> <td>-4.09e+04</td> <td> 3.99e+04</td>\n",
              "</tr>\n",
              "<tr>\n",
              "  <th>hsc_p</th>          <td>-2.351e+04</td> <td> 2.21e+04</td> <td>   -1.065</td> <td> 0.289</td> <td>-6.72e+04</td> <td> 2.02e+04</td>\n",
              "</tr>\n",
              "<tr>\n",
              "  <th>hsc_s</th>          <td>-3.013e+04</td> <td>  1.6e+04</td> <td>   -1.883</td> <td> 0.062</td> <td>-6.18e+04</td> <td> 1541.035</td>\n",
              "</tr>\n",
              "<tr>\n",
              "  <th>degree_p</th>       <td>-1.093e+04</td> <td> 2.26e+04</td> <td>   -0.484</td> <td> 0.630</td> <td>-5.57e+04</td> <td> 3.38e+04</td>\n",
              "</tr>\n",
              "<tr>\n",
              "  <th>degree_t</th>       <td> 4.227e+04</td> <td> 1.72e+04</td> <td>    2.461</td> <td> 0.015</td> <td> 8271.786</td> <td> 7.63e+04</td>\n",
              "</tr>\n",
              "<tr>\n",
              "  <th>workex</th>         <td>-7378.4001</td> <td> 7690.687</td> <td>   -0.959</td> <td> 0.339</td> <td>-2.26e+04</td> <td> 7846.084</td>\n",
              "</tr>\n",
              "<tr>\n",
              "  <th>etest_p</th>        <td> 2.046e+04</td> <td> 1.45e+04</td> <td>    1.412</td> <td> 0.161</td> <td>-8232.973</td> <td> 4.91e+04</td>\n",
              "</tr>\n",
              "<tr>\n",
              "  <th>specialisation</th> <td> 1849.5176</td> <td> 8049.340</td> <td>    0.230</td> <td> 0.819</td> <td>-1.41e+04</td> <td> 1.78e+04</td>\n",
              "</tr>\n",
              "<tr>\n",
              "  <th>mba_p</th>          <td> 3.634e+04</td> <td> 2.11e+04</td> <td>    1.720</td> <td> 0.088</td> <td>-5480.461</td> <td> 7.82e+04</td>\n",
              "</tr>\n",
              "</table>\n",
              "<table class=\"simpletable\">\n",
              "<tr>\n",
              "  <th>Omnibus:</th>       <td> 8.625</td> <th>  Durbin-Watson:     </th> <td>   1.978</td>\n",
              "</tr>\n",
              "<tr>\n",
              "  <th>Prob(Omnibus):</th> <td> 0.013</td> <th>  Jarque-Bera (JB):  </th> <td>   8.423</td>\n",
              "</tr>\n",
              "<tr>\n",
              "  <th>Skew:</th>          <td> 0.584</td> <th>  Prob(JB):          </th> <td>  0.0148</td>\n",
              "</tr>\n",
              "<tr>\n",
              "  <th>Kurtosis:</th>      <td> 3.382</td> <th>  Cond. No.          </th> <td>    13.9</td>\n",
              "</tr>\n",
              "</table><br/><br/>Warnings:<br/>[1] Standard Errors assume that the covariance matrix of the errors is correctly specified."
            ],
            "text/plain": [
              "<class 'statsmodels.iolib.summary.Summary'>\n",
              "\"\"\"\n",
              "                            OLS Regression Results                            \n",
              "==============================================================================\n",
              "Dep. Variable:                      y   R-squared:                       0.129\n",
              "Model:                            OLS   Adj. R-squared:                  0.050\n",
              "Method:                 Least Squares   F-statistic:                     1.635\n",
              "Date:                Tue, 27 Oct 2020   Prob (F-statistic):             0.0969\n",
              "Time:                        16:35:00   Log-Likelihood:                -1608.0\n",
              "No. Observations:                 134   AIC:                             3240.\n",
              "Df Residuals:                     122   BIC:                             3275.\n",
              "Df Model:                          11                                         \n",
              "Covariance Type:            nonrobust                                         \n",
              "==================================================================================\n",
              "                     coef    std err          t      P>|t|      [0.025      0.975]\n",
              "----------------------------------------------------------------------------------\n",
              "const           2.709e+05   1.59e+04     17.069      0.000    2.39e+05    3.02e+05\n",
              "sl_no          -1.206e+04   1.35e+04     -0.891      0.374   -3.89e+04    1.47e+04\n",
              "gender         -1.812e+04   8312.977     -2.180      0.031   -3.46e+04   -1662.099\n",
              "ssc_p           -510.6732   2.04e+04     -0.025      0.980   -4.09e+04    3.99e+04\n",
              "hsc_p          -2.351e+04   2.21e+04     -1.065      0.289   -6.72e+04    2.02e+04\n",
              "hsc_s          -3.013e+04    1.6e+04     -1.883      0.062   -6.18e+04    1541.035\n",
              "degree_p       -1.093e+04   2.26e+04     -0.484      0.630   -5.57e+04    3.38e+04\n",
              "degree_t        4.227e+04   1.72e+04      2.461      0.015    8271.786    7.63e+04\n",
              "workex         -7378.4001   7690.687     -0.959      0.339   -2.26e+04    7846.084\n",
              "etest_p         2.046e+04   1.45e+04      1.412      0.161   -8232.973    4.91e+04\n",
              "specialisation  1849.5176   8049.340      0.230      0.819   -1.41e+04    1.78e+04\n",
              "mba_p           3.634e+04   2.11e+04      1.720      0.088   -5480.461    7.82e+04\n",
              "==============================================================================\n",
              "Omnibus:                        8.625   Durbin-Watson:                   1.978\n",
              "Prob(Omnibus):                  0.013   Jarque-Bera (JB):                8.423\n",
              "Skew:                           0.584   Prob(JB):                       0.0148\n",
              "Kurtosis:                       3.382   Cond. No.                         13.9\n",
              "==============================================================================\n",
              "\n",
              "Warnings:\n",
              "[1] Standard Errors assume that the covariance matrix of the errors is correctly specified.\n",
              "\"\"\""
            ]
          },
          "metadata": {
            "tags": []
          },
          "execution_count": 26
        }
      ]
    },
    {
      "cell_type": "code",
      "metadata": {
        "id": "re-9-n2dcT0z",
        "colab": {
          "base_uri": "https://localhost:8080/",
          "height": 402
        },
        "outputId": "456c6ef5-3c42-490e-f8a2-0d7fb47f6df8"
      },
      "source": [
        "X_scaled"
      ],
      "execution_count": null,
      "outputs": [
        {
          "output_type": "execute_result",
          "data": {
            "text/html": [
              "<div>\n",
              "<style scoped>\n",
              "    .dataframe tbody tr th:only-of-type {\n",
              "        vertical-align: middle;\n",
              "    }\n",
              "\n",
              "    .dataframe tbody tr th {\n",
              "        vertical-align: top;\n",
              "    }\n",
              "\n",
              "    .dataframe thead th {\n",
              "        text-align: right;\n",
              "    }\n",
              "</style>\n",
              "<table border=\"1\" class=\"dataframe\">\n",
              "  <thead>\n",
              "    <tr style=\"text-align: right;\">\n",
              "      <th></th>\n",
              "      <th>const</th>\n",
              "      <th>sl_no</th>\n",
              "      <th>gender</th>\n",
              "      <th>ssc_p</th>\n",
              "      <th>hsc_p</th>\n",
              "      <th>hsc_s</th>\n",
              "      <th>degree_p</th>\n",
              "      <th>degree_t</th>\n",
              "      <th>workex</th>\n",
              "      <th>etest_p</th>\n",
              "      <th>specialisation</th>\n",
              "      <th>mba_p</th>\n",
              "    </tr>\n",
              "  </thead>\n",
              "  <tbody>\n",
              "    <tr>\n",
              "      <th>0</th>\n",
              "      <td>1.0</td>\n",
              "      <td>0.000000</td>\n",
              "      <td>0.0</td>\n",
              "      <td>0.445545</td>\n",
              "      <td>0.857051</td>\n",
              "      <td>0.0</td>\n",
              "      <td>0.057143</td>\n",
              "      <td>0.5</td>\n",
              "      <td>0.0</td>\n",
              "      <td>0.104167</td>\n",
              "      <td>0.0</td>\n",
              "      <td>0.251666</td>\n",
              "    </tr>\n",
              "    <tr>\n",
              "      <th>1</th>\n",
              "      <td>1.0</td>\n",
              "      <td>0.004695</td>\n",
              "      <td>0.0</td>\n",
              "      <td>0.750743</td>\n",
              "      <td>0.586729</td>\n",
              "      <td>0.5</td>\n",
              "      <td>0.613714</td>\n",
              "      <td>0.5</td>\n",
              "      <td>1.0</td>\n",
              "      <td>0.760417</td>\n",
              "      <td>1.0</td>\n",
              "      <td>0.544884</td>\n",
              "    </tr>\n",
              "    <tr>\n",
              "      <th>2</th>\n",
              "      <td>1.0</td>\n",
              "      <td>0.009390</td>\n",
              "      <td>0.0</td>\n",
              "      <td>0.396040</td>\n",
              "      <td>0.366332</td>\n",
              "      <td>1.0</td>\n",
              "      <td>0.228571</td>\n",
              "      <td>0.0</td>\n",
              "      <td>0.0</td>\n",
              "      <td>0.520833</td>\n",
              "      <td>1.0</td>\n",
              "      <td>0.212466</td>\n",
              "    </tr>\n",
              "    <tr>\n",
              "      <th>3</th>\n",
              "      <td>1.0</td>\n",
              "      <td>0.032864</td>\n",
              "      <td>0.0</td>\n",
              "      <td>0.816832</td>\n",
              "      <td>0.280990</td>\n",
              "      <td>0.5</td>\n",
              "      <td>0.285714</td>\n",
              "      <td>0.5</td>\n",
              "      <td>1.0</td>\n",
              "      <td>0.354167</td>\n",
              "      <td>1.0</td>\n",
              "      <td>0.382595</td>\n",
              "    </tr>\n",
              "    <tr>\n",
              "      <th>4</th>\n",
              "      <td>1.0</td>\n",
              "      <td>0.037559</td>\n",
              "      <td>0.0</td>\n",
              "      <td>0.594059</td>\n",
              "      <td>0.601024</td>\n",
              "      <td>0.0</td>\n",
              "      <td>0.457143</td>\n",
              "      <td>0.0</td>\n",
              "      <td>0.0</td>\n",
              "      <td>0.861250</td>\n",
              "      <td>1.0</td>\n",
              "      <td>0.349275</td>\n",
              "    </tr>\n",
              "    <tr>\n",
              "      <th>...</th>\n",
              "      <td>...</td>\n",
              "      <td>...</td>\n",
              "      <td>...</td>\n",
              "      <td>...</td>\n",
              "      <td>...</td>\n",
              "      <td>...</td>\n",
              "      <td>...</td>\n",
              "      <td>...</td>\n",
              "      <td>...</td>\n",
              "      <td>...</td>\n",
              "      <td>...</td>\n",
              "      <td>...</td>\n",
              "    </tr>\n",
              "    <tr>\n",
              "      <th>129</th>\n",
              "      <td>1.0</td>\n",
              "      <td>0.971831</td>\n",
              "      <td>0.0</td>\n",
              "      <td>0.849752</td>\n",
              "      <td>0.579689</td>\n",
              "      <td>0.0</td>\n",
              "      <td>0.142857</td>\n",
              "      <td>0.0</td>\n",
              "      <td>1.0</td>\n",
              "      <td>0.803333</td>\n",
              "      <td>1.0</td>\n",
              "      <td>0.751470</td>\n",
              "    </tr>\n",
              "    <tr>\n",
              "      <th>130</th>\n",
              "      <td>1.0</td>\n",
              "      <td>0.981221</td>\n",
              "      <td>0.0</td>\n",
              "      <td>0.321782</td>\n",
              "      <td>0.451675</td>\n",
              "      <td>0.0</td>\n",
              "      <td>0.257143</td>\n",
              "      <td>0.0</td>\n",
              "      <td>0.0</td>\n",
              "      <td>0.354167</td>\n",
              "      <td>1.0</td>\n",
              "      <td>0.161113</td>\n",
              "    </tr>\n",
              "    <tr>\n",
              "      <th>131</th>\n",
              "      <td>1.0</td>\n",
              "      <td>0.990610</td>\n",
              "      <td>0.0</td>\n",
              "      <td>0.222772</td>\n",
              "      <td>0.195648</td>\n",
              "      <td>0.5</td>\n",
              "      <td>0.457143</td>\n",
              "      <td>0.5</td>\n",
              "      <td>0.0</td>\n",
              "      <td>0.500000</td>\n",
              "      <td>1.0</td>\n",
              "      <td>0.048608</td>\n",
              "    </tr>\n",
              "    <tr>\n",
              "      <th>132</th>\n",
              "      <td>1.0</td>\n",
              "      <td>0.995305</td>\n",
              "      <td>0.0</td>\n",
              "      <td>0.445545</td>\n",
              "      <td>0.344997</td>\n",
              "      <td>0.0</td>\n",
              "      <td>0.485714</td>\n",
              "      <td>0.0</td>\n",
              "      <td>1.0</td>\n",
              "      <td>0.187500</td>\n",
              "      <td>1.0</td>\n",
              "      <td>0.679733</td>\n",
              "    </tr>\n",
              "    <tr>\n",
              "      <th>133</th>\n",
              "      <td>1.0</td>\n",
              "      <td>1.000000</td>\n",
              "      <td>1.0</td>\n",
              "      <td>0.618812</td>\n",
              "      <td>0.323661</td>\n",
              "      <td>0.0</td>\n",
              "      <td>0.057143</td>\n",
              "      <td>0.0</td>\n",
              "      <td>0.0</td>\n",
              "      <td>0.416667</td>\n",
              "      <td>0.0</td>\n",
              "      <td>0.307722</td>\n",
              "    </tr>\n",
              "  </tbody>\n",
              "</table>\n",
              "<p>134 rows × 12 columns</p>\n",
              "</div>"
            ],
            "text/plain": [
              "     const     sl_no  gender  ...   etest_p  specialisation     mba_p\n",
              "0      1.0  0.000000     0.0  ...  0.104167             0.0  0.251666\n",
              "1      1.0  0.004695     0.0  ...  0.760417             1.0  0.544884\n",
              "2      1.0  0.009390     0.0  ...  0.520833             1.0  0.212466\n",
              "3      1.0  0.032864     0.0  ...  0.354167             1.0  0.382595\n",
              "4      1.0  0.037559     0.0  ...  0.861250             1.0  0.349275\n",
              "..     ...       ...     ...  ...       ...             ...       ...\n",
              "129    1.0  0.971831     0.0  ...  0.803333             1.0  0.751470\n",
              "130    1.0  0.981221     0.0  ...  0.354167             1.0  0.161113\n",
              "131    1.0  0.990610     0.0  ...  0.500000             1.0  0.048608\n",
              "132    1.0  0.995305     0.0  ...  0.187500             1.0  0.679733\n",
              "133    1.0  1.000000     1.0  ...  0.416667             0.0  0.307722\n",
              "\n",
              "[134 rows x 12 columns]"
            ]
          },
          "metadata": {
            "tags": []
          },
          "execution_count": 27
        }
      ]
    },
    {
      "cell_type": "code",
      "metadata": {
        "id": "EiZYcpeOe5lY",
        "colab": {
          "base_uri": "https://localhost:8080/",
          "height": 606
        },
        "outputId": "6daeac7f-82a9-444b-dff9-22d9a24874e3"
      },
      "source": [
        "# Identify max P-value (P>|t|) column\n",
        "# Feature ssc_p has 0.995\n",
        "#drop ssc_p\n",
        "X_scaled = X_scaled.drop('ssc_p', axis=1)\n",
        "model = sm.OLS(y, X_scaled)\n",
        "results = model.fit()\n",
        "results.summary()"
      ],
      "execution_count": null,
      "outputs": [
        {
          "output_type": "execute_result",
          "data": {
            "text/html": [
              "<table class=\"simpletable\">\n",
              "<caption>OLS Regression Results</caption>\n",
              "<tr>\n",
              "  <th>Dep. Variable:</th>            <td>y</td>        <th>  R-squared:         </th> <td>   0.128</td>\n",
              "</tr>\n",
              "<tr>\n",
              "  <th>Model:</th>                   <td>OLS</td>       <th>  Adj. R-squared:    </th> <td>   0.058</td>\n",
              "</tr>\n",
              "<tr>\n",
              "  <th>Method:</th>             <td>Least Squares</td>  <th>  F-statistic:       </th> <td>   1.814</td>\n",
              "</tr>\n",
              "<tr>\n",
              "  <th>Date:</th>             <td>Tue, 27 Oct 2020</td> <th>  Prob (F-statistic):</th>  <td>0.0648</td> \n",
              "</tr>\n",
              "<tr>\n",
              "  <th>Time:</th>                 <td>16:35:00</td>     <th>  Log-Likelihood:    </th> <td> -1608.0</td>\n",
              "</tr>\n",
              "<tr>\n",
              "  <th>No. Observations:</th>      <td>   134</td>      <th>  AIC:               </th> <td>   3238.</td>\n",
              "</tr>\n",
              "<tr>\n",
              "  <th>Df Residuals:</th>          <td>   123</td>      <th>  BIC:               </th> <td>   3270.</td>\n",
              "</tr>\n",
              "<tr>\n",
              "  <th>Df Model:</th>              <td>    10</td>      <th>                     </th>     <td> </td>   \n",
              "</tr>\n",
              "<tr>\n",
              "  <th>Covariance Type:</th>      <td>nonrobust</td>    <th>                     </th>     <td> </td>   \n",
              "</tr>\n",
              "</table>\n",
              "<table class=\"simpletable\">\n",
              "<tr>\n",
              "         <td></td>           <th>coef</th>     <th>std err</th>      <th>t</th>      <th>P>|t|</th>  <th>[0.025</th>    <th>0.975]</th>  \n",
              "</tr>\n",
              "<tr>\n",
              "  <th>const</th>          <td> 2.708e+05</td> <td> 1.51e+04</td> <td>   17.889</td> <td> 0.000</td> <td> 2.41e+05</td> <td> 3.01e+05</td>\n",
              "</tr>\n",
              "<tr>\n",
              "  <th>sl_no</th>          <td>-1.206e+04</td> <td> 1.35e+04</td> <td>   -0.895</td> <td> 0.373</td> <td>-3.87e+04</td> <td> 1.46e+04</td>\n",
              "</tr>\n",
              "<tr>\n",
              "  <th>gender</th>         <td>-1.815e+04</td> <td> 8191.003</td> <td>   -2.216</td> <td> 0.029</td> <td>-3.44e+04</td> <td>-1935.170</td>\n",
              "</tr>\n",
              "<tr>\n",
              "  <th>hsc_p</th>          <td>-2.362e+04</td> <td> 2.16e+04</td> <td>   -1.095</td> <td> 0.276</td> <td>-6.63e+04</td> <td> 1.91e+04</td>\n",
              "</tr>\n",
              "<tr>\n",
              "  <th>hsc_s</th>          <td>-3.013e+04</td> <td> 1.59e+04</td> <td>   -1.891</td> <td> 0.061</td> <td>-6.17e+04</td> <td> 1408.240</td>\n",
              "</tr>\n",
              "<tr>\n",
              "  <th>degree_p</th>       <td>-1.104e+04</td> <td> 2.21e+04</td> <td>   -0.500</td> <td> 0.618</td> <td>-5.47e+04</td> <td> 3.27e+04</td>\n",
              "</tr>\n",
              "<tr>\n",
              "  <th>degree_t</th>       <td>  4.22e+04</td> <td> 1.69e+04</td> <td>    2.501</td> <td> 0.014</td> <td> 8794.195</td> <td> 7.56e+04</td>\n",
              "</tr>\n",
              "<tr>\n",
              "  <th>workex</th>         <td>-7389.7753</td> <td> 7646.007</td> <td>   -0.966</td> <td> 0.336</td> <td>-2.25e+04</td> <td> 7745.026</td>\n",
              "</tr>\n",
              "<tr>\n",
              "  <th>etest_p</th>        <td> 2.039e+04</td> <td> 1.42e+04</td> <td>    1.437</td> <td> 0.153</td> <td>-7692.594</td> <td> 4.85e+04</td>\n",
              "</tr>\n",
              "<tr>\n",
              "  <th>specialisation</th> <td> 1851.9941</td> <td> 8015.967</td> <td>    0.231</td> <td> 0.818</td> <td> -1.4e+04</td> <td> 1.77e+04</td>\n",
              "</tr>\n",
              "<tr>\n",
              "  <th>mba_p</th>          <td> 3.626e+04</td> <td> 2.08e+04</td> <td>    1.745</td> <td> 0.083</td> <td>-4862.972</td> <td> 7.74e+04</td>\n",
              "</tr>\n",
              "</table>\n",
              "<table class=\"simpletable\">\n",
              "<tr>\n",
              "  <th>Omnibus:</th>       <td> 8.639</td> <th>  Durbin-Watson:     </th> <td>   1.978</td>\n",
              "</tr>\n",
              "<tr>\n",
              "  <th>Prob(Omnibus):</th> <td> 0.013</td> <th>  Jarque-Bera (JB):  </th> <td>   8.439</td>\n",
              "</tr>\n",
              "<tr>\n",
              "  <th>Skew:</th>          <td> 0.584</td> <th>  Prob(JB):          </th> <td>  0.0147</td>\n",
              "</tr>\n",
              "<tr>\n",
              "  <th>Kurtosis:</th>      <td> 3.383</td> <th>  Cond. No.          </th> <td>    13.2</td>\n",
              "</tr>\n",
              "</table><br/><br/>Warnings:<br/>[1] Standard Errors assume that the covariance matrix of the errors is correctly specified."
            ],
            "text/plain": [
              "<class 'statsmodels.iolib.summary.Summary'>\n",
              "\"\"\"\n",
              "                            OLS Regression Results                            \n",
              "==============================================================================\n",
              "Dep. Variable:                      y   R-squared:                       0.128\n",
              "Model:                            OLS   Adj. R-squared:                  0.058\n",
              "Method:                 Least Squares   F-statistic:                     1.814\n",
              "Date:                Tue, 27 Oct 2020   Prob (F-statistic):             0.0648\n",
              "Time:                        16:35:00   Log-Likelihood:                -1608.0\n",
              "No. Observations:                 134   AIC:                             3238.\n",
              "Df Residuals:                     123   BIC:                             3270.\n",
              "Df Model:                          10                                         \n",
              "Covariance Type:            nonrobust                                         \n",
              "==================================================================================\n",
              "                     coef    std err          t      P>|t|      [0.025      0.975]\n",
              "----------------------------------------------------------------------------------\n",
              "const           2.708e+05   1.51e+04     17.889      0.000    2.41e+05    3.01e+05\n",
              "sl_no          -1.206e+04   1.35e+04     -0.895      0.373   -3.87e+04    1.46e+04\n",
              "gender         -1.815e+04   8191.003     -2.216      0.029   -3.44e+04   -1935.170\n",
              "hsc_p          -2.362e+04   2.16e+04     -1.095      0.276   -6.63e+04    1.91e+04\n",
              "hsc_s          -3.013e+04   1.59e+04     -1.891      0.061   -6.17e+04    1408.240\n",
              "degree_p       -1.104e+04   2.21e+04     -0.500      0.618   -5.47e+04    3.27e+04\n",
              "degree_t         4.22e+04   1.69e+04      2.501      0.014    8794.195    7.56e+04\n",
              "workex         -7389.7753   7646.007     -0.966      0.336   -2.25e+04    7745.026\n",
              "etest_p         2.039e+04   1.42e+04      1.437      0.153   -7692.594    4.85e+04\n",
              "specialisation  1851.9941   8015.967      0.231      0.818    -1.4e+04    1.77e+04\n",
              "mba_p           3.626e+04   2.08e+04      1.745      0.083   -4862.972    7.74e+04\n",
              "==============================================================================\n",
              "Omnibus:                        8.639   Durbin-Watson:                   1.978\n",
              "Prob(Omnibus):                  0.013   Jarque-Bera (JB):                8.439\n",
              "Skew:                           0.584   Prob(JB):                       0.0147\n",
              "Kurtosis:                       3.383   Cond. No.                         13.2\n",
              "==============================================================================\n",
              "\n",
              "Warnings:\n",
              "[1] Standard Errors assume that the covariance matrix of the errors is correctly specified.\n",
              "\"\"\""
            ]
          },
          "metadata": {
            "tags": []
          },
          "execution_count": 28
        }
      ]
    },
    {
      "cell_type": "code",
      "metadata": {
        "id": "9_k67Vg1e5oz",
        "colab": {
          "base_uri": "https://localhost:8080/",
          "height": 586
        },
        "outputId": "10a38eb6-6273-421c-c5f9-2e60ccbe2f5b"
      },
      "source": [
        "# specialisation has max P-Value and is greater than 0.05\n",
        "# Identify max P-value (P>|t|) column\n",
        "# Feature specialisation has 0.759\n",
        "#drop specialisation\n",
        "X_scaled = X_scaled.drop('specialisation', axis=1)\n",
        "model = sm.OLS(y, X_scaled)\n",
        "results = model.fit()\n",
        "results.summary()"
      ],
      "execution_count": null,
      "outputs": [
        {
          "output_type": "execute_result",
          "data": {
            "text/html": [
              "<table class=\"simpletable\">\n",
              "<caption>OLS Regression Results</caption>\n",
              "<tr>\n",
              "  <th>Dep. Variable:</th>            <td>y</td>        <th>  R-squared:         </th> <td>   0.128</td>\n",
              "</tr>\n",
              "<tr>\n",
              "  <th>Model:</th>                   <td>OLS</td>       <th>  Adj. R-squared:    </th> <td>   0.065</td>\n",
              "</tr>\n",
              "<tr>\n",
              "  <th>Method:</th>             <td>Least Squares</td>  <th>  F-statistic:       </th> <td>   2.025</td>\n",
              "</tr>\n",
              "<tr>\n",
              "  <th>Date:</th>             <td>Tue, 27 Oct 2020</td> <th>  Prob (F-statistic):</th>  <td>0.0418</td> \n",
              "</tr>\n",
              "<tr>\n",
              "  <th>Time:</th>                 <td>16:35:00</td>     <th>  Log-Likelihood:    </th> <td> -1608.0</td>\n",
              "</tr>\n",
              "<tr>\n",
              "  <th>No. Observations:</th>      <td>   134</td>      <th>  AIC:               </th> <td>   3236.</td>\n",
              "</tr>\n",
              "<tr>\n",
              "  <th>Df Residuals:</th>          <td>   124</td>      <th>  BIC:               </th> <td>   3265.</td>\n",
              "</tr>\n",
              "<tr>\n",
              "  <th>Df Model:</th>              <td>     9</td>      <th>                     </th>     <td> </td>   \n",
              "</tr>\n",
              "<tr>\n",
              "  <th>Covariance Type:</th>      <td>nonrobust</td>    <th>                     </th>     <td> </td>   \n",
              "</tr>\n",
              "</table>\n",
              "<table class=\"simpletable\">\n",
              "<tr>\n",
              "      <td></td>        <th>coef</th>     <th>std err</th>      <th>t</th>      <th>P>|t|</th>  <th>[0.025</th>    <th>0.975]</th>  \n",
              "</tr>\n",
              "<tr>\n",
              "  <th>const</th>    <td> 2.714e+05</td> <td> 1.48e+04</td> <td>   18.305</td> <td> 0.000</td> <td> 2.42e+05</td> <td> 3.01e+05</td>\n",
              "</tr>\n",
              "<tr>\n",
              "  <th>sl_no</th>    <td>-1.232e+04</td> <td> 1.34e+04</td> <td>   -0.921</td> <td> 0.359</td> <td>-3.88e+04</td> <td> 1.42e+04</td>\n",
              "</tr>\n",
              "<tr>\n",
              "  <th>gender</th>   <td>-1.829e+04</td> <td> 8135.431</td> <td>   -2.249</td> <td> 0.026</td> <td>-3.44e+04</td> <td>-2192.246</td>\n",
              "</tr>\n",
              "<tr>\n",
              "  <th>hsc_p</th>    <td>-2.353e+04</td> <td> 2.15e+04</td> <td>   -1.095</td> <td> 0.276</td> <td>-6.61e+04</td> <td>  1.9e+04</td>\n",
              "</tr>\n",
              "<tr>\n",
              "  <th>hsc_s</th>    <td>    -3e+04</td> <td> 1.59e+04</td> <td>   -1.891</td> <td> 0.061</td> <td>-6.14e+04</td> <td> 1396.148</td>\n",
              "</tr>\n",
              "<tr>\n",
              "  <th>degree_p</th> <td>-1.095e+04</td> <td>  2.2e+04</td> <td>   -0.498</td> <td> 0.620</td> <td>-5.45e+04</td> <td> 3.26e+04</td>\n",
              "</tr>\n",
              "<tr>\n",
              "  <th>degree_t</th> <td> 4.172e+04</td> <td> 1.67e+04</td> <td>    2.501</td> <td> 0.014</td> <td> 8697.786</td> <td> 7.47e+04</td>\n",
              "</tr>\n",
              "<tr>\n",
              "  <th>workex</th>   <td>-7161.3684</td> <td> 7552.829</td> <td>   -0.948</td> <td> 0.345</td> <td>-2.21e+04</td> <td> 7787.796</td>\n",
              "</tr>\n",
              "<tr>\n",
              "  <th>etest_p</th>  <td> 2.125e+04</td> <td> 1.36e+04</td> <td>    1.558</td> <td> 0.122</td> <td>-5750.734</td> <td> 4.82e+04</td>\n",
              "</tr>\n",
              "<tr>\n",
              "  <th>mba_p</th>    <td> 3.673e+04</td> <td> 2.06e+04</td> <td>    1.784</td> <td> 0.077</td> <td>-4022.723</td> <td> 7.75e+04</td>\n",
              "</tr>\n",
              "</table>\n",
              "<table class=\"simpletable\">\n",
              "<tr>\n",
              "  <th>Omnibus:</th>       <td> 8.348</td> <th>  Durbin-Watson:     </th> <td>   1.981</td>\n",
              "</tr>\n",
              "<tr>\n",
              "  <th>Prob(Omnibus):</th> <td> 0.015</td> <th>  Jarque-Bera (JB):  </th> <td>   8.118</td>\n",
              "</tr>\n",
              "<tr>\n",
              "  <th>Skew:</th>          <td> 0.576</td> <th>  Prob(JB):          </th> <td>  0.0173</td>\n",
              "</tr>\n",
              "<tr>\n",
              "  <th>Kurtosis:</th>      <td> 3.357</td> <th>  Cond. No.          </th> <td>    12.1</td>\n",
              "</tr>\n",
              "</table><br/><br/>Warnings:<br/>[1] Standard Errors assume that the covariance matrix of the errors is correctly specified."
            ],
            "text/plain": [
              "<class 'statsmodels.iolib.summary.Summary'>\n",
              "\"\"\"\n",
              "                            OLS Regression Results                            \n",
              "==============================================================================\n",
              "Dep. Variable:                      y   R-squared:                       0.128\n",
              "Model:                            OLS   Adj. R-squared:                  0.065\n",
              "Method:                 Least Squares   F-statistic:                     2.025\n",
              "Date:                Tue, 27 Oct 2020   Prob (F-statistic):             0.0418\n",
              "Time:                        16:35:00   Log-Likelihood:                -1608.0\n",
              "No. Observations:                 134   AIC:                             3236.\n",
              "Df Residuals:                     124   BIC:                             3265.\n",
              "Df Model:                           9                                         \n",
              "Covariance Type:            nonrobust                                         \n",
              "==============================================================================\n",
              "                 coef    std err          t      P>|t|      [0.025      0.975]\n",
              "------------------------------------------------------------------------------\n",
              "const       2.714e+05   1.48e+04     18.305      0.000    2.42e+05    3.01e+05\n",
              "sl_no      -1.232e+04   1.34e+04     -0.921      0.359   -3.88e+04    1.42e+04\n",
              "gender     -1.829e+04   8135.431     -2.249      0.026   -3.44e+04   -2192.246\n",
              "hsc_p      -2.353e+04   2.15e+04     -1.095      0.276   -6.61e+04     1.9e+04\n",
              "hsc_s          -3e+04   1.59e+04     -1.891      0.061   -6.14e+04    1396.148\n",
              "degree_p   -1.095e+04    2.2e+04     -0.498      0.620   -5.45e+04    3.26e+04\n",
              "degree_t    4.172e+04   1.67e+04      2.501      0.014    8697.786    7.47e+04\n",
              "workex     -7161.3684   7552.829     -0.948      0.345   -2.21e+04    7787.796\n",
              "etest_p     2.125e+04   1.36e+04      1.558      0.122   -5750.734    4.82e+04\n",
              "mba_p       3.673e+04   2.06e+04      1.784      0.077   -4022.723    7.75e+04\n",
              "==============================================================================\n",
              "Omnibus:                        8.348   Durbin-Watson:                   1.981\n",
              "Prob(Omnibus):                  0.015   Jarque-Bera (JB):                8.118\n",
              "Skew:                           0.576   Prob(JB):                       0.0173\n",
              "Kurtosis:                       3.357   Cond. No.                         12.1\n",
              "==============================================================================\n",
              "\n",
              "Warnings:\n",
              "[1] Standard Errors assume that the covariance matrix of the errors is correctly specified.\n",
              "\"\"\""
            ]
          },
          "metadata": {
            "tags": []
          },
          "execution_count": 29
        }
      ]
    },
    {
      "cell_type": "code",
      "metadata": {
        "id": "4gfHfqXGe5rw",
        "colab": {
          "base_uri": "https://localhost:8080/",
          "height": 566
        },
        "outputId": "f9a89c6e-3125-4226-932b-b436bee2ba2a"
      },
      "source": [
        "# degree_p has max P-Value and is greater than 0.05\n",
        "# Increase in Adjusted R2\n",
        "# Feature degree_p has 0.657\n",
        "#drop degree_p\n",
        "X_scaled = X_scaled.drop('degree_p', axis=1)\n",
        "model = sm.OLS(y, X_scaled)\n",
        "results = model.fit()\n",
        "results.summary()"
      ],
      "execution_count": null,
      "outputs": [
        {
          "output_type": "execute_result",
          "data": {
            "text/html": [
              "<table class=\"simpletable\">\n",
              "<caption>OLS Regression Results</caption>\n",
              "<tr>\n",
              "  <th>Dep. Variable:</th>            <td>y</td>        <th>  R-squared:         </th> <td>   0.126</td>\n",
              "</tr>\n",
              "<tr>\n",
              "  <th>Model:</th>                   <td>OLS</td>       <th>  Adj. R-squared:    </th> <td>   0.070</td>\n",
              "</tr>\n",
              "<tr>\n",
              "  <th>Method:</th>             <td>Least Squares</td>  <th>  F-statistic:       </th> <td>   2.260</td>\n",
              "</tr>\n",
              "<tr>\n",
              "  <th>Date:</th>             <td>Tue, 27 Oct 2020</td> <th>  Prob (F-statistic):</th>  <td>0.0273</td> \n",
              "</tr>\n",
              "<tr>\n",
              "  <th>Time:</th>                 <td>16:35:00</td>     <th>  Log-Likelihood:    </th> <td> -1608.2</td>\n",
              "</tr>\n",
              "<tr>\n",
              "  <th>No. Observations:</th>      <td>   134</td>      <th>  AIC:               </th> <td>   3234.</td>\n",
              "</tr>\n",
              "<tr>\n",
              "  <th>Df Residuals:</th>          <td>   125</td>      <th>  BIC:               </th> <td>   3260.</td>\n",
              "</tr>\n",
              "<tr>\n",
              "  <th>Df Model:</th>              <td>     8</td>      <th>                     </th>     <td> </td>   \n",
              "</tr>\n",
              "<tr>\n",
              "  <th>Covariance Type:</th>      <td>nonrobust</td>    <th>                     </th>     <td> </td>   \n",
              "</tr>\n",
              "</table>\n",
              "<table class=\"simpletable\">\n",
              "<tr>\n",
              "      <td></td>        <th>coef</th>     <th>std err</th>      <th>t</th>      <th>P>|t|</th>  <th>[0.025</th>    <th>0.975]</th>  \n",
              "</tr>\n",
              "<tr>\n",
              "  <th>const</th>    <td>  2.69e+05</td> <td>  1.4e+04</td> <td>   19.252</td> <td> 0.000</td> <td> 2.41e+05</td> <td> 2.97e+05</td>\n",
              "</tr>\n",
              "<tr>\n",
              "  <th>sl_no</th>    <td>-1.193e+04</td> <td> 1.33e+04</td> <td>   -0.896</td> <td> 0.372</td> <td>-3.83e+04</td> <td> 1.44e+04</td>\n",
              "</tr>\n",
              "<tr>\n",
              "  <th>gender</th>   <td>-1.858e+04</td> <td> 8090.728</td> <td>   -2.296</td> <td> 0.023</td> <td>-3.46e+04</td> <td>-2567.506</td>\n",
              "</tr>\n",
              "<tr>\n",
              "  <th>hsc_p</th>    <td>-2.329e+04</td> <td> 2.14e+04</td> <td>   -1.087</td> <td> 0.279</td> <td>-6.57e+04</td> <td> 1.91e+04</td>\n",
              "</tr>\n",
              "<tr>\n",
              "  <th>hsc_s</th>    <td>-2.997e+04</td> <td> 1.58e+04</td> <td>   -1.895</td> <td> 0.060</td> <td>-6.13e+04</td> <td> 1327.960</td>\n",
              "</tr>\n",
              "<tr>\n",
              "  <th>degree_t</th> <td> 4.201e+04</td> <td> 1.66e+04</td> <td>    2.527</td> <td> 0.013</td> <td> 9108.721</td> <td> 7.49e+04</td>\n",
              "</tr>\n",
              "<tr>\n",
              "  <th>workex</th>   <td>-6922.8994</td> <td> 7514.904</td> <td>   -0.921</td> <td> 0.359</td> <td>-2.18e+04</td> <td> 7950.027</td>\n",
              "</tr>\n",
              "<tr>\n",
              "  <th>etest_p</th>  <td> 2.059e+04</td> <td> 1.35e+04</td> <td>    1.521</td> <td> 0.131</td> <td>-6197.334</td> <td> 4.74e+04</td>\n",
              "</tr>\n",
              "<tr>\n",
              "  <th>mba_p</th>    <td>  3.26e+04</td> <td> 1.88e+04</td> <td>    1.735</td> <td> 0.085</td> <td>-4580.998</td> <td> 6.98e+04</td>\n",
              "</tr>\n",
              "</table>\n",
              "<table class=\"simpletable\">\n",
              "<tr>\n",
              "  <th>Omnibus:</th>       <td> 7.796</td> <th>  Durbin-Watson:     </th> <td>   1.993</td>\n",
              "</tr>\n",
              "<tr>\n",
              "  <th>Prob(Omnibus):</th> <td> 0.020</td> <th>  Jarque-Bera (JB):  </th> <td>   7.510</td>\n",
              "</tr>\n",
              "<tr>\n",
              "  <th>Skew:</th>          <td> 0.556</td> <th>  Prob(JB):          </th> <td>  0.0234</td>\n",
              "</tr>\n",
              "<tr>\n",
              "  <th>Kurtosis:</th>      <td> 3.327</td> <th>  Cond. No.          </th> <td>    11.1</td>\n",
              "</tr>\n",
              "</table><br/><br/>Warnings:<br/>[1] Standard Errors assume that the covariance matrix of the errors is correctly specified."
            ],
            "text/plain": [
              "<class 'statsmodels.iolib.summary.Summary'>\n",
              "\"\"\"\n",
              "                            OLS Regression Results                            \n",
              "==============================================================================\n",
              "Dep. Variable:                      y   R-squared:                       0.126\n",
              "Model:                            OLS   Adj. R-squared:                  0.070\n",
              "Method:                 Least Squares   F-statistic:                     2.260\n",
              "Date:                Tue, 27 Oct 2020   Prob (F-statistic):             0.0273\n",
              "Time:                        16:35:00   Log-Likelihood:                -1608.2\n",
              "No. Observations:                 134   AIC:                             3234.\n",
              "Df Residuals:                     125   BIC:                             3260.\n",
              "Df Model:                           8                                         \n",
              "Covariance Type:            nonrobust                                         \n",
              "==============================================================================\n",
              "                 coef    std err          t      P>|t|      [0.025      0.975]\n",
              "------------------------------------------------------------------------------\n",
              "const        2.69e+05    1.4e+04     19.252      0.000    2.41e+05    2.97e+05\n",
              "sl_no      -1.193e+04   1.33e+04     -0.896      0.372   -3.83e+04    1.44e+04\n",
              "gender     -1.858e+04   8090.728     -2.296      0.023   -3.46e+04   -2567.506\n",
              "hsc_p      -2.329e+04   2.14e+04     -1.087      0.279   -6.57e+04    1.91e+04\n",
              "hsc_s      -2.997e+04   1.58e+04     -1.895      0.060   -6.13e+04    1327.960\n",
              "degree_t    4.201e+04   1.66e+04      2.527      0.013    9108.721    7.49e+04\n",
              "workex     -6922.8994   7514.904     -0.921      0.359   -2.18e+04    7950.027\n",
              "etest_p     2.059e+04   1.35e+04      1.521      0.131   -6197.334    4.74e+04\n",
              "mba_p        3.26e+04   1.88e+04      1.735      0.085   -4580.998    6.98e+04\n",
              "==============================================================================\n",
              "Omnibus:                        7.796   Durbin-Watson:                   1.993\n",
              "Prob(Omnibus):                  0.020   Jarque-Bera (JB):                7.510\n",
              "Skew:                           0.556   Prob(JB):                       0.0234\n",
              "Kurtosis:                       3.327   Cond. No.                         11.1\n",
              "==============================================================================\n",
              "\n",
              "Warnings:\n",
              "[1] Standard Errors assume that the covariance matrix of the errors is correctly specified.\n",
              "\"\"\""
            ]
          },
          "metadata": {
            "tags": []
          },
          "execution_count": 30
        }
      ]
    },
    {
      "cell_type": "code",
      "metadata": {
        "id": "FzOPuLpyfE3X",
        "colab": {
          "base_uri": "https://localhost:8080/",
          "height": 546
        },
        "outputId": "f1e0f823-4765-4529-8df9-ec812cf82043"
      },
      "source": [
        "# workex has max P-Value and is greater than 0.05\n",
        "# Increase in Adjusted R2\n",
        "# Feature workex has 0.337\n",
        "#drop workex\n",
        "X_scaled = X_scaled.drop('workex', axis=1)\n",
        "model = sm.OLS(y, X_scaled)\n",
        "results = model.fit()\n",
        "results.summary()"
      ],
      "execution_count": null,
      "outputs": [
        {
          "output_type": "execute_result",
          "data": {
            "text/html": [
              "<table class=\"simpletable\">\n",
              "<caption>OLS Regression Results</caption>\n",
              "<tr>\n",
              "  <th>Dep. Variable:</th>            <td>y</td>        <th>  R-squared:         </th> <td>   0.120</td>\n",
              "</tr>\n",
              "<tr>\n",
              "  <th>Model:</th>                   <td>OLS</td>       <th>  Adj. R-squared:    </th> <td>   0.072</td>\n",
              "</tr>\n",
              "<tr>\n",
              "  <th>Method:</th>             <td>Least Squares</td>  <th>  F-statistic:       </th> <td>   2.465</td>\n",
              "</tr>\n",
              "<tr>\n",
              "  <th>Date:</th>             <td>Tue, 27 Oct 2020</td> <th>  Prob (F-statistic):</th>  <td>0.0210</td> \n",
              "</tr>\n",
              "<tr>\n",
              "  <th>Time:</th>                 <td>16:35:00</td>     <th>  Log-Likelihood:    </th> <td> -1608.6</td>\n",
              "</tr>\n",
              "<tr>\n",
              "  <th>No. Observations:</th>      <td>   134</td>      <th>  AIC:               </th> <td>   3233.</td>\n",
              "</tr>\n",
              "<tr>\n",
              "  <th>Df Residuals:</th>          <td>   126</td>      <th>  BIC:               </th> <td>   3256.</td>\n",
              "</tr>\n",
              "<tr>\n",
              "  <th>Df Model:</th>              <td>     7</td>      <th>                     </th>     <td> </td>   \n",
              "</tr>\n",
              "<tr>\n",
              "  <th>Covariance Type:</th>      <td>nonrobust</td>    <th>                     </th>     <td> </td>   \n",
              "</tr>\n",
              "</table>\n",
              "<table class=\"simpletable\">\n",
              "<tr>\n",
              "      <td></td>        <th>coef</th>     <th>std err</th>      <th>t</th>      <th>P>|t|</th>  <th>[0.025</th>    <th>0.975]</th>  \n",
              "</tr>\n",
              "<tr>\n",
              "  <th>const</th>    <td> 2.669e+05</td> <td> 1.38e+04</td> <td>   19.366</td> <td> 0.000</td> <td>  2.4e+05</td> <td> 2.94e+05</td>\n",
              "</tr>\n",
              "<tr>\n",
              "  <th>sl_no</th>    <td>-1.249e+04</td> <td> 1.33e+04</td> <td>   -0.940</td> <td> 0.349</td> <td>-3.88e+04</td> <td> 1.38e+04</td>\n",
              "</tr>\n",
              "<tr>\n",
              "  <th>gender</th>   <td>-1.731e+04</td> <td> 7967.267</td> <td>   -2.172</td> <td> 0.032</td> <td>-3.31e+04</td> <td>-1541.189</td>\n",
              "</tr>\n",
              "<tr>\n",
              "  <th>hsc_p</th>    <td>-2.123e+04</td> <td> 2.13e+04</td> <td>   -0.997</td> <td> 0.321</td> <td>-6.34e+04</td> <td> 2.09e+04</td>\n",
              "</tr>\n",
              "<tr>\n",
              "  <th>hsc_s</th>    <td>-2.986e+04</td> <td> 1.58e+04</td> <td>   -1.890</td> <td> 0.061</td> <td>-6.11e+04</td> <td> 1412.063</td>\n",
              "</tr>\n",
              "<tr>\n",
              "  <th>degree_t</th> <td> 4.009e+04</td> <td> 1.65e+04</td> <td>    2.432</td> <td> 0.016</td> <td> 7469.284</td> <td> 7.27e+04</td>\n",
              "</tr>\n",
              "<tr>\n",
              "  <th>etest_p</th>  <td> 2.028e+04</td> <td> 1.35e+04</td> <td>    1.500</td> <td> 0.136</td> <td>-6481.274</td> <td>  4.7e+04</td>\n",
              "</tr>\n",
              "<tr>\n",
              "  <th>mba_p</th>    <td>   2.9e+04</td> <td> 1.84e+04</td> <td>    1.579</td> <td> 0.117</td> <td>-7341.433</td> <td> 6.54e+04</td>\n",
              "</tr>\n",
              "</table>\n",
              "<table class=\"simpletable\">\n",
              "<tr>\n",
              "  <th>Omnibus:</th>       <td> 8.289</td> <th>  Durbin-Watson:     </th> <td>   2.011</td>\n",
              "</tr>\n",
              "<tr>\n",
              "  <th>Prob(Omnibus):</th> <td> 0.016</td> <th>  Jarque-Bera (JB):  </th> <td>   8.040</td>\n",
              "</tr>\n",
              "<tr>\n",
              "  <th>Skew:</th>          <td> 0.570</td> <th>  Prob(JB):          </th> <td>  0.0180</td>\n",
              "</tr>\n",
              "<tr>\n",
              "  <th>Kurtosis:</th>      <td> 3.374</td> <th>  Cond. No.          </th> <td>    10.5</td>\n",
              "</tr>\n",
              "</table><br/><br/>Warnings:<br/>[1] Standard Errors assume that the covariance matrix of the errors is correctly specified."
            ],
            "text/plain": [
              "<class 'statsmodels.iolib.summary.Summary'>\n",
              "\"\"\"\n",
              "                            OLS Regression Results                            \n",
              "==============================================================================\n",
              "Dep. Variable:                      y   R-squared:                       0.120\n",
              "Model:                            OLS   Adj. R-squared:                  0.072\n",
              "Method:                 Least Squares   F-statistic:                     2.465\n",
              "Date:                Tue, 27 Oct 2020   Prob (F-statistic):             0.0210\n",
              "Time:                        16:35:00   Log-Likelihood:                -1608.6\n",
              "No. Observations:                 134   AIC:                             3233.\n",
              "Df Residuals:                     126   BIC:                             3256.\n",
              "Df Model:                           7                                         \n",
              "Covariance Type:            nonrobust                                         \n",
              "==============================================================================\n",
              "                 coef    std err          t      P>|t|      [0.025      0.975]\n",
              "------------------------------------------------------------------------------\n",
              "const       2.669e+05   1.38e+04     19.366      0.000     2.4e+05    2.94e+05\n",
              "sl_no      -1.249e+04   1.33e+04     -0.940      0.349   -3.88e+04    1.38e+04\n",
              "gender     -1.731e+04   7967.267     -2.172      0.032   -3.31e+04   -1541.189\n",
              "hsc_p      -2.123e+04   2.13e+04     -0.997      0.321   -6.34e+04    2.09e+04\n",
              "hsc_s      -2.986e+04   1.58e+04     -1.890      0.061   -6.11e+04    1412.063\n",
              "degree_t    4.009e+04   1.65e+04      2.432      0.016    7469.284    7.27e+04\n",
              "etest_p     2.028e+04   1.35e+04      1.500      0.136   -6481.274     4.7e+04\n",
              "mba_p         2.9e+04   1.84e+04      1.579      0.117   -7341.433    6.54e+04\n",
              "==============================================================================\n",
              "Omnibus:                        8.289   Durbin-Watson:                   2.011\n",
              "Prob(Omnibus):                  0.016   Jarque-Bera (JB):                8.040\n",
              "Skew:                           0.570   Prob(JB):                       0.0180\n",
              "Kurtosis:                       3.374   Cond. No.                         10.5\n",
              "==============================================================================\n",
              "\n",
              "Warnings:\n",
              "[1] Standard Errors assume that the covariance matrix of the errors is correctly specified.\n",
              "\"\"\""
            ]
          },
          "metadata": {
            "tags": []
          },
          "execution_count": 31
        }
      ]
    },
    {
      "cell_type": "code",
      "metadata": {
        "id": "ZAHXfhFGfE0x",
        "colab": {
          "base_uri": "https://localhost:8080/",
          "height": 526
        },
        "outputId": "3e7f2a58-a0c8-4ea9-8d20-362536eaa8dd"
      },
      "source": [
        "# hsc_p has max P-Value and is greater than 0.05\n",
        "# Increase in Adjusted R2\n",
        "# Feature hsc_p has 0.444\n",
        "#drop hsc_p\n",
        "X_scaled = X_scaled.drop('hsc_p', axis=1)\n",
        "model = sm.OLS(y, X_scaled)\n",
        "results = model.fit()\n",
        "results.summary()"
      ],
      "execution_count": null,
      "outputs": [
        {
          "output_type": "execute_result",
          "data": {
            "text/html": [
              "<table class=\"simpletable\">\n",
              "<caption>OLS Regression Results</caption>\n",
              "<tr>\n",
              "  <th>Dep. Variable:</th>            <td>y</td>        <th>  R-squared:         </th> <td>   0.114</td>\n",
              "</tr>\n",
              "<tr>\n",
              "  <th>Model:</th>                   <td>OLS</td>       <th>  Adj. R-squared:    </th> <td>   0.072</td>\n",
              "</tr>\n",
              "<tr>\n",
              "  <th>Method:</th>             <td>Least Squares</td>  <th>  F-statistic:       </th> <td>   2.710</td>\n",
              "</tr>\n",
              "<tr>\n",
              "  <th>Date:</th>             <td>Tue, 27 Oct 2020</td> <th>  Prob (F-statistic):</th>  <td>0.0165</td> \n",
              "</tr>\n",
              "<tr>\n",
              "  <th>Time:</th>                 <td>16:35:00</td>     <th>  Log-Likelihood:    </th> <td> -1609.1</td>\n",
              "</tr>\n",
              "<tr>\n",
              "  <th>No. Observations:</th>      <td>   134</td>      <th>  AIC:               </th> <td>   3232.</td>\n",
              "</tr>\n",
              "<tr>\n",
              "  <th>Df Residuals:</th>          <td>   127</td>      <th>  BIC:               </th> <td>   3253.</td>\n",
              "</tr>\n",
              "<tr>\n",
              "  <th>Df Model:</th>              <td>     6</td>      <th>                     </th>     <td> </td>   \n",
              "</tr>\n",
              "<tr>\n",
              "  <th>Covariance Type:</th>      <td>nonrobust</td>    <th>                     </th>     <td> </td>   \n",
              "</tr>\n",
              "</table>\n",
              "<table class=\"simpletable\">\n",
              "<tr>\n",
              "      <td></td>        <th>coef</th>     <th>std err</th>      <th>t</th>      <th>P>|t|</th>  <th>[0.025</th>    <th>0.975]</th>  \n",
              "</tr>\n",
              "<tr>\n",
              "  <th>const</th>    <td> 2.587e+05</td> <td> 1.11e+04</td> <td>   23.398</td> <td> 0.000</td> <td> 2.37e+05</td> <td> 2.81e+05</td>\n",
              "</tr>\n",
              "<tr>\n",
              "  <th>sl_no</th>    <td>-8833.2817</td> <td> 1.28e+04</td> <td>   -0.692</td> <td> 0.490</td> <td>-3.41e+04</td> <td> 1.64e+04</td>\n",
              "</tr>\n",
              "<tr>\n",
              "  <th>gender</th>   <td> -1.68e+04</td> <td> 7950.870</td> <td>   -2.113</td> <td> 0.037</td> <td>-3.25e+04</td> <td>-1067.880</td>\n",
              "</tr>\n",
              "<tr>\n",
              "  <th>hsc_s</th>    <td>-2.533e+04</td> <td> 1.51e+04</td> <td>   -1.674</td> <td> 0.097</td> <td>-5.53e+04</td> <td> 4619.859</td>\n",
              "</tr>\n",
              "<tr>\n",
              "  <th>degree_t</th> <td> 3.782e+04</td> <td> 1.63e+04</td> <td>    2.317</td> <td> 0.022</td> <td> 5518.007</td> <td> 7.01e+04</td>\n",
              "</tr>\n",
              "<tr>\n",
              "  <th>etest_p</th>  <td> 1.786e+04</td> <td> 1.33e+04</td> <td>    1.343</td> <td> 0.182</td> <td>-8462.372</td> <td> 4.42e+04</td>\n",
              "</tr>\n",
              "<tr>\n",
              "  <th>mba_p</th>    <td> 2.403e+04</td> <td> 1.77e+04</td> <td>    1.360</td> <td> 0.176</td> <td>-1.09e+04</td> <td>  5.9e+04</td>\n",
              "</tr>\n",
              "</table>\n",
              "<table class=\"simpletable\">\n",
              "<tr>\n",
              "  <th>Omnibus:</th>       <td> 9.373</td> <th>  Durbin-Watson:     </th> <td>   2.027</td>\n",
              "</tr>\n",
              "<tr>\n",
              "  <th>Prob(Omnibus):</th> <td> 0.009</td> <th>  Jarque-Bera (JB):  </th> <td>   9.268</td>\n",
              "</tr>\n",
              "<tr>\n",
              "  <th>Skew:</th>          <td> 0.601</td> <th>  Prob(JB):          </th> <td> 0.00971</td>\n",
              "</tr>\n",
              "<tr>\n",
              "  <th>Kurtosis:</th>      <td> 3.463</td> <th>  Cond. No.          </th> <td>    7.97</td>\n",
              "</tr>\n",
              "</table><br/><br/>Warnings:<br/>[1] Standard Errors assume that the covariance matrix of the errors is correctly specified."
            ],
            "text/plain": [
              "<class 'statsmodels.iolib.summary.Summary'>\n",
              "\"\"\"\n",
              "                            OLS Regression Results                            \n",
              "==============================================================================\n",
              "Dep. Variable:                      y   R-squared:                       0.114\n",
              "Model:                            OLS   Adj. R-squared:                  0.072\n",
              "Method:                 Least Squares   F-statistic:                     2.710\n",
              "Date:                Tue, 27 Oct 2020   Prob (F-statistic):             0.0165\n",
              "Time:                        16:35:00   Log-Likelihood:                -1609.1\n",
              "No. Observations:                 134   AIC:                             3232.\n",
              "Df Residuals:                     127   BIC:                             3253.\n",
              "Df Model:                           6                                         \n",
              "Covariance Type:            nonrobust                                         \n",
              "==============================================================================\n",
              "                 coef    std err          t      P>|t|      [0.025      0.975]\n",
              "------------------------------------------------------------------------------\n",
              "const       2.587e+05   1.11e+04     23.398      0.000    2.37e+05    2.81e+05\n",
              "sl_no      -8833.2817   1.28e+04     -0.692      0.490   -3.41e+04    1.64e+04\n",
              "gender      -1.68e+04   7950.870     -2.113      0.037   -3.25e+04   -1067.880\n",
              "hsc_s      -2.533e+04   1.51e+04     -1.674      0.097   -5.53e+04    4619.859\n",
              "degree_t    3.782e+04   1.63e+04      2.317      0.022    5518.007    7.01e+04\n",
              "etest_p     1.786e+04   1.33e+04      1.343      0.182   -8462.372    4.42e+04\n",
              "mba_p       2.403e+04   1.77e+04      1.360      0.176   -1.09e+04     5.9e+04\n",
              "==============================================================================\n",
              "Omnibus:                        9.373   Durbin-Watson:                   2.027\n",
              "Prob(Omnibus):                  0.009   Jarque-Bera (JB):                9.268\n",
              "Skew:                           0.601   Prob(JB):                      0.00971\n",
              "Kurtosis:                       3.463   Cond. No.                         7.97\n",
              "==============================================================================\n",
              "\n",
              "Warnings:\n",
              "[1] Standard Errors assume that the covariance matrix of the errors is correctly specified.\n",
              "\"\"\""
            ]
          },
          "metadata": {
            "tags": []
          },
          "execution_count": 32
        }
      ]
    },
    {
      "cell_type": "code",
      "metadata": {
        "id": "lJxUA8iSfKSI",
        "colab": {
          "base_uri": "https://localhost:8080/",
          "height": 506
        },
        "outputId": "a4ece26b-8d30-472b-dfc1-52f74dad33d2"
      },
      "source": [
        "# etest_p has max P-Value and is greater than 0.05\n",
        "# Slight Decrease in Adjusted R2..\n",
        "# Feature etest_p has 0.2\n",
        "#drop etest_p\n",
        "X_scaled = X_scaled.drop('etest_p', axis=1)\n",
        "model = sm.OLS(y, X_scaled)\n",
        "results = model.fit()\n",
        "results.summary()"
      ],
      "execution_count": null,
      "outputs": [
        {
          "output_type": "execute_result",
          "data": {
            "text/html": [
              "<table class=\"simpletable\">\n",
              "<caption>OLS Regression Results</caption>\n",
              "<tr>\n",
              "  <th>Dep. Variable:</th>            <td>y</td>        <th>  R-squared:         </th> <td>   0.101</td>\n",
              "</tr>\n",
              "<tr>\n",
              "  <th>Model:</th>                   <td>OLS</td>       <th>  Adj. R-squared:    </th> <td>   0.066</td>\n",
              "</tr>\n",
              "<tr>\n",
              "  <th>Method:</th>             <td>Least Squares</td>  <th>  F-statistic:       </th> <td>   2.874</td>\n",
              "</tr>\n",
              "<tr>\n",
              "  <th>Date:</th>             <td>Tue, 27 Oct 2020</td> <th>  Prob (F-statistic):</th>  <td>0.0171</td> \n",
              "</tr>\n",
              "<tr>\n",
              "  <th>Time:</th>                 <td>16:35:00</td>     <th>  Log-Likelihood:    </th> <td> -1610.1</td>\n",
              "</tr>\n",
              "<tr>\n",
              "  <th>No. Observations:</th>      <td>   134</td>      <th>  AIC:               </th> <td>   3232.</td>\n",
              "</tr>\n",
              "<tr>\n",
              "  <th>Df Residuals:</th>          <td>   128</td>      <th>  BIC:               </th> <td>   3250.</td>\n",
              "</tr>\n",
              "<tr>\n",
              "  <th>Df Model:</th>              <td>     5</td>      <th>                     </th>     <td> </td>   \n",
              "</tr>\n",
              "<tr>\n",
              "  <th>Covariance Type:</th>      <td>nonrobust</td>    <th>                     </th>     <td> </td>   \n",
              "</tr>\n",
              "</table>\n",
              "<table class=\"simpletable\">\n",
              "<tr>\n",
              "      <td></td>        <th>coef</th>     <th>std err</th>      <th>t</th>      <th>P>|t|</th>  <th>[0.025</th>    <th>0.975]</th>  \n",
              "</tr>\n",
              "<tr>\n",
              "  <th>const</th>    <td> 2.641e+05</td> <td> 1.03e+04</td> <td>   25.537</td> <td> 0.000</td> <td> 2.44e+05</td> <td> 2.85e+05</td>\n",
              "</tr>\n",
              "<tr>\n",
              "  <th>sl_no</th>    <td>-7211.2437</td> <td> 1.28e+04</td> <td>   -0.565</td> <td> 0.573</td> <td>-3.24e+04</td> <td>  1.8e+04</td>\n",
              "</tr>\n",
              "<tr>\n",
              "  <th>gender</th>   <td>-1.892e+04</td> <td> 7816.452</td> <td>   -2.421</td> <td> 0.017</td> <td>-3.44e+04</td> <td>-3458.229</td>\n",
              "</tr>\n",
              "<tr>\n",
              "  <th>hsc_s</th>    <td>-2.632e+04</td> <td> 1.52e+04</td> <td>   -1.736</td> <td> 0.085</td> <td>-5.63e+04</td> <td> 3687.663</td>\n",
              "</tr>\n",
              "<tr>\n",
              "  <th>degree_t</th> <td> 3.903e+04</td> <td> 1.64e+04</td> <td>    2.387</td> <td> 0.018</td> <td> 6679.850</td> <td> 7.14e+04</td>\n",
              "</tr>\n",
              "<tr>\n",
              "  <th>mba_p</th>    <td> 3.175e+04</td> <td> 1.68e+04</td> <td>    1.894</td> <td> 0.060</td> <td>-1420.967</td> <td> 6.49e+04</td>\n",
              "</tr>\n",
              "</table>\n",
              "<table class=\"simpletable\">\n",
              "<tr>\n",
              "  <th>Omnibus:</th>       <td>10.677</td> <th>  Durbin-Watson:     </th> <td>   2.027</td>\n",
              "</tr>\n",
              "<tr>\n",
              "  <th>Prob(Omnibus):</th> <td> 0.005</td> <th>  Jarque-Bera (JB):  </th> <td>  10.833</td>\n",
              "</tr>\n",
              "<tr>\n",
              "  <th>Skew:</th>          <td> 0.659</td> <th>  Prob(JB):          </th> <td> 0.00444</td>\n",
              "</tr>\n",
              "<tr>\n",
              "  <th>Kurtosis:</th>      <td> 3.453</td> <th>  Cond. No.          </th> <td>    7.47</td>\n",
              "</tr>\n",
              "</table><br/><br/>Warnings:<br/>[1] Standard Errors assume that the covariance matrix of the errors is correctly specified."
            ],
            "text/plain": [
              "<class 'statsmodels.iolib.summary.Summary'>\n",
              "\"\"\"\n",
              "                            OLS Regression Results                            \n",
              "==============================================================================\n",
              "Dep. Variable:                      y   R-squared:                       0.101\n",
              "Model:                            OLS   Adj. R-squared:                  0.066\n",
              "Method:                 Least Squares   F-statistic:                     2.874\n",
              "Date:                Tue, 27 Oct 2020   Prob (F-statistic):             0.0171\n",
              "Time:                        16:35:00   Log-Likelihood:                -1610.1\n",
              "No. Observations:                 134   AIC:                             3232.\n",
              "Df Residuals:                     128   BIC:                             3250.\n",
              "Df Model:                           5                                         \n",
              "Covariance Type:            nonrobust                                         \n",
              "==============================================================================\n",
              "                 coef    std err          t      P>|t|      [0.025      0.975]\n",
              "------------------------------------------------------------------------------\n",
              "const       2.641e+05   1.03e+04     25.537      0.000    2.44e+05    2.85e+05\n",
              "sl_no      -7211.2437   1.28e+04     -0.565      0.573   -3.24e+04     1.8e+04\n",
              "gender     -1.892e+04   7816.452     -2.421      0.017   -3.44e+04   -3458.229\n",
              "hsc_s      -2.632e+04   1.52e+04     -1.736      0.085   -5.63e+04    3687.663\n",
              "degree_t    3.903e+04   1.64e+04      2.387      0.018    6679.850    7.14e+04\n",
              "mba_p       3.175e+04   1.68e+04      1.894      0.060   -1420.967    6.49e+04\n",
              "==============================================================================\n",
              "Omnibus:                       10.677   Durbin-Watson:                   2.027\n",
              "Prob(Omnibus):                  0.005   Jarque-Bera (JB):               10.833\n",
              "Skew:                           0.659   Prob(JB):                      0.00444\n",
              "Kurtosis:                       3.453   Cond. No.                         7.47\n",
              "==============================================================================\n",
              "\n",
              "Warnings:\n",
              "[1] Standard Errors assume that the covariance matrix of the errors is correctly specified.\n",
              "\"\"\""
            ]
          },
          "metadata": {
            "tags": []
          },
          "execution_count": 33
        }
      ]
    },
    {
      "cell_type": "code",
      "metadata": {
        "id": "euPLxcY3fKVe",
        "colab": {
          "base_uri": "https://localhost:8080/",
          "height": 486
        },
        "outputId": "e6f47950-b62e-476f-c04f-b25bc2af8f0f"
      },
      "source": [
        "# hsc_s has max P-Value and is greater than 0.05\n",
        "# Drastic Decrease in Adjusted R2..\n",
        "# Feature hsc_s has 0.09\n",
        "#drop hsc_s\n",
        "X_scaled = X_scaled.drop('hsc_s', axis=1)\n",
        "model = sm.OLS(y, X_scaled)\n",
        "results = model.fit()\n",
        "results.summary()"
      ],
      "execution_count": null,
      "outputs": [
        {
          "output_type": "execute_result",
          "data": {
            "text/html": [
              "<table class=\"simpletable\">\n",
              "<caption>OLS Regression Results</caption>\n",
              "<tr>\n",
              "  <th>Dep. Variable:</th>            <td>y</td>        <th>  R-squared:         </th> <td>   0.080</td>\n",
              "</tr>\n",
              "<tr>\n",
              "  <th>Model:</th>                   <td>OLS</td>       <th>  Adj. R-squared:    </th> <td>   0.051</td>\n",
              "</tr>\n",
              "<tr>\n",
              "  <th>Method:</th>             <td>Least Squares</td>  <th>  F-statistic:       </th> <td>   2.795</td>\n",
              "</tr>\n",
              "<tr>\n",
              "  <th>Date:</th>             <td>Tue, 27 Oct 2020</td> <th>  Prob (F-statistic):</th>  <td>0.0288</td> \n",
              "</tr>\n",
              "<tr>\n",
              "  <th>Time:</th>                 <td>16:35:00</td>     <th>  Log-Likelihood:    </th> <td> -1611.6</td>\n",
              "</tr>\n",
              "<tr>\n",
              "  <th>No. Observations:</th>      <td>   134</td>      <th>  AIC:               </th> <td>   3233.</td>\n",
              "</tr>\n",
              "<tr>\n",
              "  <th>Df Residuals:</th>          <td>   129</td>      <th>  BIC:               </th> <td>   3248.</td>\n",
              "</tr>\n",
              "<tr>\n",
              "  <th>Df Model:</th>              <td>     4</td>      <th>                     </th>     <td> </td>   \n",
              "</tr>\n",
              "<tr>\n",
              "  <th>Covariance Type:</th>      <td>nonrobust</td>    <th>                     </th>     <td> </td>   \n",
              "</tr>\n",
              "</table>\n",
              "<table class=\"simpletable\">\n",
              "<tr>\n",
              "      <td></td>        <th>coef</th>     <th>std err</th>      <th>t</th>      <th>P>|t|</th>  <th>[0.025</th>    <th>0.975]</th>  \n",
              "</tr>\n",
              "<tr>\n",
              "  <th>const</th>    <td>   2.6e+05</td> <td> 1.02e+04</td> <td>   25.614</td> <td> 0.000</td> <td>  2.4e+05</td> <td>  2.8e+05</td>\n",
              "</tr>\n",
              "<tr>\n",
              "  <th>sl_no</th>    <td>-4894.1941</td> <td> 1.28e+04</td> <td>   -0.383</td> <td> 0.702</td> <td>-3.02e+04</td> <td> 2.04e+04</td>\n",
              "</tr>\n",
              "<tr>\n",
              "  <th>gender</th>   <td>-2.056e+04</td> <td> 7819.946</td> <td>   -2.629</td> <td> 0.010</td> <td> -3.6e+04</td> <td>-5084.684</td>\n",
              "</tr>\n",
              "<tr>\n",
              "  <th>degree_t</th> <td> 2.279e+04</td> <td> 1.35e+04</td> <td>    1.687</td> <td> 0.094</td> <td>-3942.142</td> <td> 4.95e+04</td>\n",
              "</tr>\n",
              "<tr>\n",
              "  <th>mba_p</th>    <td> 3.046e+04</td> <td> 1.69e+04</td> <td>    1.805</td> <td> 0.073</td> <td>-2936.423</td> <td> 6.39e+04</td>\n",
              "</tr>\n",
              "</table>\n",
              "<table class=\"simpletable\">\n",
              "<tr>\n",
              "  <th>Omnibus:</th>       <td>12.997</td> <th>  Durbin-Watson:     </th> <td>   2.012</td>\n",
              "</tr>\n",
              "<tr>\n",
              "  <th>Prob(Omnibus):</th> <td> 0.002</td> <th>  Jarque-Bera (JB):  </th> <td>  13.748</td>\n",
              "</tr>\n",
              "<tr>\n",
              "  <th>Skew:</th>          <td> 0.744</td> <th>  Prob(JB):          </th> <td> 0.00103</td>\n",
              "</tr>\n",
              "<tr>\n",
              "  <th>Kurtosis:</th>      <td> 3.495</td> <th>  Cond. No.          </th> <td>    6.75</td>\n",
              "</tr>\n",
              "</table><br/><br/>Warnings:<br/>[1] Standard Errors assume that the covariance matrix of the errors is correctly specified."
            ],
            "text/plain": [
              "<class 'statsmodels.iolib.summary.Summary'>\n",
              "\"\"\"\n",
              "                            OLS Regression Results                            \n",
              "==============================================================================\n",
              "Dep. Variable:                      y   R-squared:                       0.080\n",
              "Model:                            OLS   Adj. R-squared:                  0.051\n",
              "Method:                 Least Squares   F-statistic:                     2.795\n",
              "Date:                Tue, 27 Oct 2020   Prob (F-statistic):             0.0288\n",
              "Time:                        16:35:00   Log-Likelihood:                -1611.6\n",
              "No. Observations:                 134   AIC:                             3233.\n",
              "Df Residuals:                     129   BIC:                             3248.\n",
              "Df Model:                           4                                         \n",
              "Covariance Type:            nonrobust                                         \n",
              "==============================================================================\n",
              "                 coef    std err          t      P>|t|      [0.025      0.975]\n",
              "------------------------------------------------------------------------------\n",
              "const         2.6e+05   1.02e+04     25.614      0.000     2.4e+05     2.8e+05\n",
              "sl_no      -4894.1941   1.28e+04     -0.383      0.702   -3.02e+04    2.04e+04\n",
              "gender     -2.056e+04   7819.946     -2.629      0.010    -3.6e+04   -5084.684\n",
              "degree_t    2.279e+04   1.35e+04      1.687      0.094   -3942.142    4.95e+04\n",
              "mba_p       3.046e+04   1.69e+04      1.805      0.073   -2936.423    6.39e+04\n",
              "==============================================================================\n",
              "Omnibus:                       12.997   Durbin-Watson:                   2.012\n",
              "Prob(Omnibus):                  0.002   Jarque-Bera (JB):               13.748\n",
              "Skew:                           0.744   Prob(JB):                      0.00103\n",
              "Kurtosis:                       3.495   Cond. No.                         6.75\n",
              "==============================================================================\n",
              "\n",
              "Warnings:\n",
              "[1] Standard Errors assume that the covariance matrix of the errors is correctly specified.\n",
              "\"\"\""
            ]
          },
          "metadata": {
            "tags": []
          },
          "execution_count": 34
        }
      ]
    },
    {
      "cell_type": "markdown",
      "metadata": {
        "id": "TLbpcUoWfSwD"
      },
      "source": [
        "Thus, Top 5 Features affecting salary we identified are:\n",
        "\n",
        "\n",
        "*  workex -> Work Experience\n",
        "*  degree_t -> Under Graduation(Degree type)- Field of degree education\n",
        "*  mba_p -> MBA percentage\n",
        "*  hsc_s -> Specialization in Higher Secondary Education\n",
        "*  etest_p -> Employability test percentage\n",
        "*  Specialisation\n",
        "\n",
        "(Same as with Sequential Feature Selection with mlxtend considering R2)"
      ]
    },
    {
      "cell_type": "code",
      "metadata": {
        "id": "L6hLSCfFlBq4",
        "colab": {
          "base_uri": "https://localhost:8080/",
          "height": 402
        },
        "outputId": "c8a3c008-8cf2-4269-bf91-30e2d4340fbc"
      },
      "source": [
        "data_reg"
      ],
      "execution_count": null,
      "outputs": [
        {
          "output_type": "execute_result",
          "data": {
            "text/html": [
              "<div>\n",
              "<style scoped>\n",
              "    .dataframe tbody tr th:only-of-type {\n",
              "        vertical-align: middle;\n",
              "    }\n",
              "\n",
              "    .dataframe tbody tr th {\n",
              "        vertical-align: top;\n",
              "    }\n",
              "\n",
              "    .dataframe thead th {\n",
              "        text-align: right;\n",
              "    }\n",
              "</style>\n",
              "<table border=\"1\" class=\"dataframe\">\n",
              "  <thead>\n",
              "    <tr style=\"text-align: right;\">\n",
              "      <th></th>\n",
              "      <th>sl_no</th>\n",
              "      <th>gender</th>\n",
              "      <th>ssc_p</th>\n",
              "      <th>hsc_p</th>\n",
              "      <th>hsc_s</th>\n",
              "      <th>degree_p</th>\n",
              "      <th>degree_t</th>\n",
              "      <th>workex</th>\n",
              "      <th>etest_p</th>\n",
              "      <th>specialisation</th>\n",
              "      <th>mba_p</th>\n",
              "      <th>salary</th>\n",
              "    </tr>\n",
              "  </thead>\n",
              "  <tbody>\n",
              "    <tr>\n",
              "      <th>0</th>\n",
              "      <td>1</td>\n",
              "      <td>0</td>\n",
              "      <td>67.00</td>\n",
              "      <td>91.00</td>\n",
              "      <td>0</td>\n",
              "      <td>58.00</td>\n",
              "      <td>1</td>\n",
              "      <td>0</td>\n",
              "      <td>55.0</td>\n",
              "      <td>0</td>\n",
              "      <td>58.80</td>\n",
              "      <td>270000.0</td>\n",
              "    </tr>\n",
              "    <tr>\n",
              "      <th>1</th>\n",
              "      <td>2</td>\n",
              "      <td>0</td>\n",
              "      <td>79.33</td>\n",
              "      <td>78.33</td>\n",
              "      <td>1</td>\n",
              "      <td>77.48</td>\n",
              "      <td>1</td>\n",
              "      <td>1</td>\n",
              "      <td>86.5</td>\n",
              "      <td>1</td>\n",
              "      <td>66.28</td>\n",
              "      <td>200000.0</td>\n",
              "    </tr>\n",
              "    <tr>\n",
              "      <th>2</th>\n",
              "      <td>3</td>\n",
              "      <td>0</td>\n",
              "      <td>65.00</td>\n",
              "      <td>68.00</td>\n",
              "      <td>2</td>\n",
              "      <td>64.00</td>\n",
              "      <td>0</td>\n",
              "      <td>0</td>\n",
              "      <td>75.0</td>\n",
              "      <td>1</td>\n",
              "      <td>57.80</td>\n",
              "      <td>250000.0</td>\n",
              "    </tr>\n",
              "    <tr>\n",
              "      <th>4</th>\n",
              "      <td>5</td>\n",
              "      <td>0</td>\n",
              "      <td>85.80</td>\n",
              "      <td>73.60</td>\n",
              "      <td>0</td>\n",
              "      <td>73.30</td>\n",
              "      <td>0</td>\n",
              "      <td>0</td>\n",
              "      <td>96.8</td>\n",
              "      <td>1</td>\n",
              "      <td>55.50</td>\n",
              "      <td>425000.0</td>\n",
              "    </tr>\n",
              "    <tr>\n",
              "      <th>7</th>\n",
              "      <td>8</td>\n",
              "      <td>0</td>\n",
              "      <td>82.00</td>\n",
              "      <td>64.00</td>\n",
              "      <td>1</td>\n",
              "      <td>66.00</td>\n",
              "      <td>1</td>\n",
              "      <td>1</td>\n",
              "      <td>67.0</td>\n",
              "      <td>1</td>\n",
              "      <td>62.14</td>\n",
              "      <td>252000.0</td>\n",
              "    </tr>\n",
              "    <tr>\n",
              "      <th>...</th>\n",
              "      <td>...</td>\n",
              "      <td>...</td>\n",
              "      <td>...</td>\n",
              "      <td>...</td>\n",
              "      <td>...</td>\n",
              "      <td>...</td>\n",
              "      <td>...</td>\n",
              "      <td>...</td>\n",
              "      <td>...</td>\n",
              "      <td>...</td>\n",
              "      <td>...</td>\n",
              "      <td>...</td>\n",
              "    </tr>\n",
              "    <tr>\n",
              "      <th>209</th>\n",
              "      <td>210</td>\n",
              "      <td>0</td>\n",
              "      <td>62.00</td>\n",
              "      <td>72.00</td>\n",
              "      <td>0</td>\n",
              "      <td>65.00</td>\n",
              "      <td>0</td>\n",
              "      <td>0</td>\n",
              "      <td>67.0</td>\n",
              "      <td>1</td>\n",
              "      <td>56.49</td>\n",
              "      <td>216000.0</td>\n",
              "    </tr>\n",
              "    <tr>\n",
              "      <th>210</th>\n",
              "      <td>211</td>\n",
              "      <td>0</td>\n",
              "      <td>80.60</td>\n",
              "      <td>82.00</td>\n",
              "      <td>0</td>\n",
              "      <td>77.60</td>\n",
              "      <td>0</td>\n",
              "      <td>0</td>\n",
              "      <td>91.0</td>\n",
              "      <td>1</td>\n",
              "      <td>74.49</td>\n",
              "      <td>400000.0</td>\n",
              "    </tr>\n",
              "    <tr>\n",
              "      <th>211</th>\n",
              "      <td>212</td>\n",
              "      <td>0</td>\n",
              "      <td>58.00</td>\n",
              "      <td>60.00</td>\n",
              "      <td>1</td>\n",
              "      <td>72.00</td>\n",
              "      <td>1</td>\n",
              "      <td>0</td>\n",
              "      <td>74.0</td>\n",
              "      <td>1</td>\n",
              "      <td>53.62</td>\n",
              "      <td>275000.0</td>\n",
              "    </tr>\n",
              "    <tr>\n",
              "      <th>212</th>\n",
              "      <td>213</td>\n",
              "      <td>0</td>\n",
              "      <td>67.00</td>\n",
              "      <td>67.00</td>\n",
              "      <td>0</td>\n",
              "      <td>73.00</td>\n",
              "      <td>0</td>\n",
              "      <td>1</td>\n",
              "      <td>59.0</td>\n",
              "      <td>1</td>\n",
              "      <td>69.72</td>\n",
              "      <td>295000.0</td>\n",
              "    </tr>\n",
              "    <tr>\n",
              "      <th>213</th>\n",
              "      <td>214</td>\n",
              "      <td>1</td>\n",
              "      <td>74.00</td>\n",
              "      <td>66.00</td>\n",
              "      <td>0</td>\n",
              "      <td>58.00</td>\n",
              "      <td>0</td>\n",
              "      <td>0</td>\n",
              "      <td>70.0</td>\n",
              "      <td>0</td>\n",
              "      <td>60.23</td>\n",
              "      <td>204000.0</td>\n",
              "    </tr>\n",
              "  </tbody>\n",
              "</table>\n",
              "<p>148 rows × 12 columns</p>\n",
              "</div>"
            ],
            "text/plain": [
              "     sl_no  gender  ssc_p  hsc_p  ...  etest_p  specialisation  mba_p    salary\n",
              "0        1       0  67.00  91.00  ...     55.0               0  58.80  270000.0\n",
              "1        2       0  79.33  78.33  ...     86.5               1  66.28  200000.0\n",
              "2        3       0  65.00  68.00  ...     75.0               1  57.80  250000.0\n",
              "4        5       0  85.80  73.60  ...     96.8               1  55.50  425000.0\n",
              "7        8       0  82.00  64.00  ...     67.0               1  62.14  252000.0\n",
              "..     ...     ...    ...    ...  ...      ...             ...    ...       ...\n",
              "209    210       0  62.00  72.00  ...     67.0               1  56.49  216000.0\n",
              "210    211       0  80.60  82.00  ...     91.0               1  74.49  400000.0\n",
              "211    212       0  58.00  60.00  ...     74.0               1  53.62  275000.0\n",
              "212    213       0  67.00  67.00  ...     59.0               1  69.72  295000.0\n",
              "213    214       1  74.00  66.00  ...     70.0               0  60.23  204000.0\n",
              "\n",
              "[148 rows x 12 columns]"
            ]
          },
          "metadata": {
            "tags": []
          },
          "execution_count": 35
        }
      ]
    },
    {
      "cell_type": "code",
      "metadata": {
        "id": "ClbO5Sb8k43x",
        "colab": {
          "base_uri": "https://localhost:8080/",
          "height": 402
        },
        "outputId": "d8d7aa7f-ae22-41b2-eaf0-32e64310b807"
      },
      "source": [
        "X=data_reg.iloc[:,[6,7,10,4,9,8]]\n",
        "X"
      ],
      "execution_count": null,
      "outputs": [
        {
          "output_type": "execute_result",
          "data": {
            "text/html": [
              "<div>\n",
              "<style scoped>\n",
              "    .dataframe tbody tr th:only-of-type {\n",
              "        vertical-align: middle;\n",
              "    }\n",
              "\n",
              "    .dataframe tbody tr th {\n",
              "        vertical-align: top;\n",
              "    }\n",
              "\n",
              "    .dataframe thead th {\n",
              "        text-align: right;\n",
              "    }\n",
              "</style>\n",
              "<table border=\"1\" class=\"dataframe\">\n",
              "  <thead>\n",
              "    <tr style=\"text-align: right;\">\n",
              "      <th></th>\n",
              "      <th>degree_t</th>\n",
              "      <th>workex</th>\n",
              "      <th>mba_p</th>\n",
              "      <th>hsc_s</th>\n",
              "      <th>specialisation</th>\n",
              "      <th>etest_p</th>\n",
              "    </tr>\n",
              "  </thead>\n",
              "  <tbody>\n",
              "    <tr>\n",
              "      <th>0</th>\n",
              "      <td>1</td>\n",
              "      <td>0</td>\n",
              "      <td>58.80</td>\n",
              "      <td>0</td>\n",
              "      <td>0</td>\n",
              "      <td>55.0</td>\n",
              "    </tr>\n",
              "    <tr>\n",
              "      <th>1</th>\n",
              "      <td>1</td>\n",
              "      <td>1</td>\n",
              "      <td>66.28</td>\n",
              "      <td>1</td>\n",
              "      <td>1</td>\n",
              "      <td>86.5</td>\n",
              "    </tr>\n",
              "    <tr>\n",
              "      <th>2</th>\n",
              "      <td>0</td>\n",
              "      <td>0</td>\n",
              "      <td>57.80</td>\n",
              "      <td>2</td>\n",
              "      <td>1</td>\n",
              "      <td>75.0</td>\n",
              "    </tr>\n",
              "    <tr>\n",
              "      <th>4</th>\n",
              "      <td>0</td>\n",
              "      <td>0</td>\n",
              "      <td>55.50</td>\n",
              "      <td>0</td>\n",
              "      <td>1</td>\n",
              "      <td>96.8</td>\n",
              "    </tr>\n",
              "    <tr>\n",
              "      <th>7</th>\n",
              "      <td>1</td>\n",
              "      <td>1</td>\n",
              "      <td>62.14</td>\n",
              "      <td>1</td>\n",
              "      <td>1</td>\n",
              "      <td>67.0</td>\n",
              "    </tr>\n",
              "    <tr>\n",
              "      <th>...</th>\n",
              "      <td>...</td>\n",
              "      <td>...</td>\n",
              "      <td>...</td>\n",
              "      <td>...</td>\n",
              "      <td>...</td>\n",
              "      <td>...</td>\n",
              "    </tr>\n",
              "    <tr>\n",
              "      <th>209</th>\n",
              "      <td>0</td>\n",
              "      <td>0</td>\n",
              "      <td>56.49</td>\n",
              "      <td>0</td>\n",
              "      <td>1</td>\n",
              "      <td>67.0</td>\n",
              "    </tr>\n",
              "    <tr>\n",
              "      <th>210</th>\n",
              "      <td>0</td>\n",
              "      <td>0</td>\n",
              "      <td>74.49</td>\n",
              "      <td>0</td>\n",
              "      <td>1</td>\n",
              "      <td>91.0</td>\n",
              "    </tr>\n",
              "    <tr>\n",
              "      <th>211</th>\n",
              "      <td>1</td>\n",
              "      <td>0</td>\n",
              "      <td>53.62</td>\n",
              "      <td>1</td>\n",
              "      <td>1</td>\n",
              "      <td>74.0</td>\n",
              "    </tr>\n",
              "    <tr>\n",
              "      <th>212</th>\n",
              "      <td>0</td>\n",
              "      <td>1</td>\n",
              "      <td>69.72</td>\n",
              "      <td>0</td>\n",
              "      <td>1</td>\n",
              "      <td>59.0</td>\n",
              "    </tr>\n",
              "    <tr>\n",
              "      <th>213</th>\n",
              "      <td>0</td>\n",
              "      <td>0</td>\n",
              "      <td>60.23</td>\n",
              "      <td>0</td>\n",
              "      <td>0</td>\n",
              "      <td>70.0</td>\n",
              "    </tr>\n",
              "  </tbody>\n",
              "</table>\n",
              "<p>148 rows × 6 columns</p>\n",
              "</div>"
            ],
            "text/plain": [
              "     degree_t  workex  mba_p  hsc_s  specialisation  etest_p\n",
              "0           1       0  58.80      0               0     55.0\n",
              "1           1       1  66.28      1               1     86.5\n",
              "2           0       0  57.80      2               1     75.0\n",
              "4           0       0  55.50      0               1     96.8\n",
              "7           1       1  62.14      1               1     67.0\n",
              "..        ...     ...    ...    ...             ...      ...\n",
              "209         0       0  56.49      0               1     67.0\n",
              "210         0       0  74.49      0               1     91.0\n",
              "211         1       0  53.62      1               1     74.0\n",
              "212         0       1  69.72      0               1     59.0\n",
              "213         0       0  60.23      0               0     70.0\n",
              "\n",
              "[148 rows x 6 columns]"
            ]
          },
          "metadata": {
            "tags": []
          },
          "execution_count": 36
        }
      ]
    },
    {
      "cell_type": "code",
      "metadata": {
        "id": "w6TSnynrJF5z"
      },
      "source": [
        "#now first we will try simple linear regression to find the relationship between mbap (outcome variable) and degreep (predictor variable).\n",
        "X=data_reg.iloc[:,[6,7,10,4,9,8]].values\n",
        "Y=data_reg.iloc[:,10].values.reshape(-1,1)\n"
      ],
      "execution_count": null,
      "outputs": []
    },
    {
      "cell_type": "code",
      "metadata": {
        "id": "rvxio9J7g1SB",
        "colab": {
          "base_uri": "https://localhost:8080/",
          "height": 195
        },
        "outputId": "9a74830e-c9c2-4e74-d781-6fa3ec2e8929"
      },
      "source": [
        "data_reg.head()"
      ],
      "execution_count": null,
      "outputs": [
        {
          "output_type": "execute_result",
          "data": {
            "text/html": [
              "<div>\n",
              "<style scoped>\n",
              "    .dataframe tbody tr th:only-of-type {\n",
              "        vertical-align: middle;\n",
              "    }\n",
              "\n",
              "    .dataframe tbody tr th {\n",
              "        vertical-align: top;\n",
              "    }\n",
              "\n",
              "    .dataframe thead th {\n",
              "        text-align: right;\n",
              "    }\n",
              "</style>\n",
              "<table border=\"1\" class=\"dataframe\">\n",
              "  <thead>\n",
              "    <tr style=\"text-align: right;\">\n",
              "      <th></th>\n",
              "      <th>sl_no</th>\n",
              "      <th>gender</th>\n",
              "      <th>ssc_p</th>\n",
              "      <th>hsc_p</th>\n",
              "      <th>hsc_s</th>\n",
              "      <th>degree_p</th>\n",
              "      <th>degree_t</th>\n",
              "      <th>workex</th>\n",
              "      <th>etest_p</th>\n",
              "      <th>specialisation</th>\n",
              "      <th>mba_p</th>\n",
              "      <th>salary</th>\n",
              "    </tr>\n",
              "  </thead>\n",
              "  <tbody>\n",
              "    <tr>\n",
              "      <th>0</th>\n",
              "      <td>1</td>\n",
              "      <td>0</td>\n",
              "      <td>67.00</td>\n",
              "      <td>91.00</td>\n",
              "      <td>0</td>\n",
              "      <td>58.00</td>\n",
              "      <td>1</td>\n",
              "      <td>0</td>\n",
              "      <td>55.0</td>\n",
              "      <td>0</td>\n",
              "      <td>58.80</td>\n",
              "      <td>270000.0</td>\n",
              "    </tr>\n",
              "    <tr>\n",
              "      <th>1</th>\n",
              "      <td>2</td>\n",
              "      <td>0</td>\n",
              "      <td>79.33</td>\n",
              "      <td>78.33</td>\n",
              "      <td>1</td>\n",
              "      <td>77.48</td>\n",
              "      <td>1</td>\n",
              "      <td>1</td>\n",
              "      <td>86.5</td>\n",
              "      <td>1</td>\n",
              "      <td>66.28</td>\n",
              "      <td>200000.0</td>\n",
              "    </tr>\n",
              "    <tr>\n",
              "      <th>2</th>\n",
              "      <td>3</td>\n",
              "      <td>0</td>\n",
              "      <td>65.00</td>\n",
              "      <td>68.00</td>\n",
              "      <td>2</td>\n",
              "      <td>64.00</td>\n",
              "      <td>0</td>\n",
              "      <td>0</td>\n",
              "      <td>75.0</td>\n",
              "      <td>1</td>\n",
              "      <td>57.80</td>\n",
              "      <td>250000.0</td>\n",
              "    </tr>\n",
              "    <tr>\n",
              "      <th>4</th>\n",
              "      <td>5</td>\n",
              "      <td>0</td>\n",
              "      <td>85.80</td>\n",
              "      <td>73.60</td>\n",
              "      <td>0</td>\n",
              "      <td>73.30</td>\n",
              "      <td>0</td>\n",
              "      <td>0</td>\n",
              "      <td>96.8</td>\n",
              "      <td>1</td>\n",
              "      <td>55.50</td>\n",
              "      <td>425000.0</td>\n",
              "    </tr>\n",
              "    <tr>\n",
              "      <th>7</th>\n",
              "      <td>8</td>\n",
              "      <td>0</td>\n",
              "      <td>82.00</td>\n",
              "      <td>64.00</td>\n",
              "      <td>1</td>\n",
              "      <td>66.00</td>\n",
              "      <td>1</td>\n",
              "      <td>1</td>\n",
              "      <td>67.0</td>\n",
              "      <td>1</td>\n",
              "      <td>62.14</td>\n",
              "      <td>252000.0</td>\n",
              "    </tr>\n",
              "  </tbody>\n",
              "</table>\n",
              "</div>"
            ],
            "text/plain": [
              "   sl_no  gender  ssc_p  hsc_p  ...  etest_p  specialisation  mba_p    salary\n",
              "0      1       0  67.00  91.00  ...     55.0               0  58.80  270000.0\n",
              "1      2       0  79.33  78.33  ...     86.5               1  66.28  200000.0\n",
              "2      3       0  65.00  68.00  ...     75.0               1  57.80  250000.0\n",
              "4      5       0  85.80  73.60  ...     96.8               1  55.50  425000.0\n",
              "7      8       0  82.00  64.00  ...     67.0               1  62.14  252000.0\n",
              "\n",
              "[5 rows x 12 columns]"
            ]
          },
          "metadata": {
            "tags": []
          },
          "execution_count": 38
        }
      ]
    },
    {
      "cell_type": "code",
      "metadata": {
        "id": "pIB63mknJF_6",
        "colab": {
          "base_uri": "https://localhost:8080/",
          "height": 34
        },
        "outputId": "66773d36-67d9-4f70-f412-f47d0e0c515b"
      },
      "source": [
        "X.shape"
      ],
      "execution_count": null,
      "outputs": [
        {
          "output_type": "execute_result",
          "data": {
            "text/plain": [
              "(148, 6)"
            ]
          },
          "metadata": {
            "tags": []
          },
          "execution_count": 39
        }
      ]
    },
    {
      "cell_type": "code",
      "metadata": {
        "id": "OiiFEwCMJGDK"
      },
      "source": [
        "from sklearn.model_selection import train_test_split\n",
        "\n",
        "X_train, X_test, y_train, y_test = train_test_split(X, Y, test_size=0.25, random_state=0)"
      ],
      "execution_count": null,
      "outputs": []
    },
    {
      "cell_type": "code",
      "metadata": {
        "id": "od5hzd-3JGF8"
      },
      "source": [
        "#Fitting simple learn regression to the training set\n",
        "from sklearn.linear_model import LinearRegression\n",
        "regressor=LinearRegression()\n",
        "regressor.fit(X_train,y_train)\n",
        "\n",
        "#predicting the test set results\n",
        "y_pred=regressor.predict(X_test)\n"
      ],
      "execution_count": null,
      "outputs": []
    },
    {
      "cell_type": "code",
      "metadata": {
        "id": "kGW6hcUlrjMv",
        "colab": {
          "base_uri": "https://localhost:8080/",
          "height": 195
        },
        "outputId": "a2727799-7bf6-43d4-9ede-3c6bfcef4773"
      },
      "source": [
        "df = pd.DataFrame({'Actual': y_test.flatten(), 'Predicted': y_pred.flatten()})\n",
        "df.head()"
      ],
      "execution_count": null,
      "outputs": [
        {
          "output_type": "execute_result",
          "data": {
            "text/html": [
              "<div>\n",
              "<style scoped>\n",
              "    .dataframe tbody tr th:only-of-type {\n",
              "        vertical-align: middle;\n",
              "    }\n",
              "\n",
              "    .dataframe tbody tr th {\n",
              "        vertical-align: top;\n",
              "    }\n",
              "\n",
              "    .dataframe thead th {\n",
              "        text-align: right;\n",
              "    }\n",
              "</style>\n",
              "<table border=\"1\" class=\"dataframe\">\n",
              "  <thead>\n",
              "    <tr style=\"text-align: right;\">\n",
              "      <th></th>\n",
              "      <th>Actual</th>\n",
              "      <th>Predicted</th>\n",
              "    </tr>\n",
              "  </thead>\n",
              "  <tbody>\n",
              "    <tr>\n",
              "      <th>0</th>\n",
              "      <td>55.47</td>\n",
              "      <td>55.47</td>\n",
              "    </tr>\n",
              "    <tr>\n",
              "      <th>1</th>\n",
              "      <td>63.70</td>\n",
              "      <td>63.70</td>\n",
              "    </tr>\n",
              "    <tr>\n",
              "      <th>2</th>\n",
              "      <td>63.59</td>\n",
              "      <td>63.59</td>\n",
              "    </tr>\n",
              "    <tr>\n",
              "      <th>3</th>\n",
              "      <td>55.03</td>\n",
              "      <td>55.03</td>\n",
              "    </tr>\n",
              "    <tr>\n",
              "      <th>4</th>\n",
              "      <td>66.72</td>\n",
              "      <td>66.72</td>\n",
              "    </tr>\n",
              "  </tbody>\n",
              "</table>\n",
              "</div>"
            ],
            "text/plain": [
              "   Actual  Predicted\n",
              "0   55.47      55.47\n",
              "1   63.70      63.70\n",
              "2   63.59      63.59\n",
              "3   55.03      55.03\n",
              "4   66.72      66.72"
            ]
          },
          "metadata": {
            "tags": []
          },
          "execution_count": 42
        }
      ]
    },
    {
      "cell_type": "code",
      "metadata": {
        "id": "pDv8FrPvrjWH"
      },
      "source": [
        "#SVM regressor\n",
        "# Fitting SVR to the dataset\n",
        "from sklearn.svm import SVR\n",
        "svm_regressor = SVR(kernel = 'rbf')\n",
        "svm_regressor.fit(X_train,y_train)\n",
        "\n",
        "#predicting the test set results\n",
        "y_pred_svm=svm_regressor.predict(X_test)"
      ],
      "execution_count": null,
      "outputs": []
    },
    {
      "cell_type": "code",
      "metadata": {
        "id": "hEE7vOFUuBz9"
      },
      "source": [
        "y_pred_svm=y_pred_svm.reshape(-1,1)"
      ],
      "execution_count": null,
      "outputs": []
    },
    {
      "cell_type": "code",
      "metadata": {
        "id": "kDPmM--CrjY7",
        "colab": {
          "base_uri": "https://localhost:8080/",
          "height": 195
        },
        "outputId": "a0b22cd3-da62-41b2-df30-99ab103d188e"
      },
      "source": [
        "df = pd.DataFrame({'Actual': y_test.flatten(), 'Predicted': y_pred_svm.flatten()})\n",
        "df.head()"
      ],
      "execution_count": null,
      "outputs": [
        {
          "output_type": "execute_result",
          "data": {
            "text/html": [
              "<div>\n",
              "<style scoped>\n",
              "    .dataframe tbody tr th:only-of-type {\n",
              "        vertical-align: middle;\n",
              "    }\n",
              "\n",
              "    .dataframe tbody tr th {\n",
              "        vertical-align: top;\n",
              "    }\n",
              "\n",
              "    .dataframe thead th {\n",
              "        text-align: right;\n",
              "    }\n",
              "</style>\n",
              "<table border=\"1\" class=\"dataframe\">\n",
              "  <thead>\n",
              "    <tr style=\"text-align: right;\">\n",
              "      <th></th>\n",
              "      <th>Actual</th>\n",
              "      <th>Predicted</th>\n",
              "    </tr>\n",
              "  </thead>\n",
              "  <tbody>\n",
              "    <tr>\n",
              "      <th>0</th>\n",
              "      <td>55.47</td>\n",
              "      <td>60.978445</td>\n",
              "    </tr>\n",
              "    <tr>\n",
              "      <th>1</th>\n",
              "      <td>63.70</td>\n",
              "      <td>62.323086</td>\n",
              "    </tr>\n",
              "    <tr>\n",
              "      <th>2</th>\n",
              "      <td>63.59</td>\n",
              "      <td>63.403666</td>\n",
              "    </tr>\n",
              "    <tr>\n",
              "      <th>3</th>\n",
              "      <td>55.03</td>\n",
              "      <td>62.819989</td>\n",
              "    </tr>\n",
              "    <tr>\n",
              "      <th>4</th>\n",
              "      <td>66.72</td>\n",
              "      <td>62.789668</td>\n",
              "    </tr>\n",
              "  </tbody>\n",
              "</table>\n",
              "</div>"
            ],
            "text/plain": [
              "   Actual  Predicted\n",
              "0   55.47  60.978445\n",
              "1   63.70  62.323086\n",
              "2   63.59  63.403666\n",
              "3   55.03  62.819989\n",
              "4   66.72  62.789668"
            ]
          },
          "metadata": {
            "tags": []
          },
          "execution_count": 45
        }
      ]
    },
    {
      "cell_type": "code",
      "metadata": {
        "id": "Ok5laorOtWCN",
        "colab": {
          "base_uri": "https://localhost:8080/",
          "height": 195
        },
        "outputId": "1eef49a4-5ea8-4a59-823b-1810c914310a"
      },
      "source": [
        "# Fitting Random Forest Regression to the dataset\n",
        "from sklearn.ensemble import RandomForestRegressor\n",
        "rdf_regressor = RandomForestRegressor(n_estimators = 5000, random_state = 1001)\n",
        "rdf_regressor.fit(X_train, y_train)\n",
        "\n",
        "# Predicting a new result\n",
        "y_pred_rdf = rdf_regressor.predict(X_test)\n",
        "\n",
        "df = pd.DataFrame({'Actual': y_test.flatten(), 'Predicted': y_pred_rdf.flatten()})\n",
        "df.head()"
      ],
      "execution_count": null,
      "outputs": [
        {
          "output_type": "execute_result",
          "data": {
            "text/html": [
              "<div>\n",
              "<style scoped>\n",
              "    .dataframe tbody tr th:only-of-type {\n",
              "        vertical-align: middle;\n",
              "    }\n",
              "\n",
              "    .dataframe tbody tr th {\n",
              "        vertical-align: top;\n",
              "    }\n",
              "\n",
              "    .dataframe thead th {\n",
              "        text-align: right;\n",
              "    }\n",
              "</style>\n",
              "<table border=\"1\" class=\"dataframe\">\n",
              "  <thead>\n",
              "    <tr style=\"text-align: right;\">\n",
              "      <th></th>\n",
              "      <th>Actual</th>\n",
              "      <th>Predicted</th>\n",
              "    </tr>\n",
              "  </thead>\n",
              "  <tbody>\n",
              "    <tr>\n",
              "      <th>0</th>\n",
              "      <td>55.47</td>\n",
              "      <td>55.647352</td>\n",
              "    </tr>\n",
              "    <tr>\n",
              "      <th>1</th>\n",
              "      <td>63.70</td>\n",
              "      <td>63.787680</td>\n",
              "    </tr>\n",
              "    <tr>\n",
              "      <th>2</th>\n",
              "      <td>63.59</td>\n",
              "      <td>63.470310</td>\n",
              "    </tr>\n",
              "    <tr>\n",
              "      <th>3</th>\n",
              "      <td>55.03</td>\n",
              "      <td>55.015876</td>\n",
              "    </tr>\n",
              "    <tr>\n",
              "      <th>4</th>\n",
              "      <td>66.72</td>\n",
              "      <td>66.789382</td>\n",
              "    </tr>\n",
              "  </tbody>\n",
              "</table>\n",
              "</div>"
            ],
            "text/plain": [
              "   Actual  Predicted\n",
              "0   55.47  55.647352\n",
              "1   63.70  63.787680\n",
              "2   63.59  63.470310\n",
              "3   55.03  55.015876\n",
              "4   66.72  66.789382"
            ]
          },
          "metadata": {
            "tags": []
          },
          "execution_count": 46
        }
      ]
    },
    {
      "cell_type": "code",
      "metadata": {
        "id": "pD3TDOsrvYY9"
      },
      "source": [
        "from sklearn.ensemble import RandomForestRegressor, GradientBoostingRegressor\n",
        "from xgboost import XGBRegressor\n",
        "from sklearn.model_selection import cross_val_score\n",
        "from lightgbm import LGBMRegressor\n",
        "from sklearn.linear_model import Lasso, Ridge\n",
        "\n",
        "xgb = XGBRegressor(learning_rate=0.01, n_estimators=1000)\n",
        "clf = RandomForestRegressor(n_estimators=1000)\n",
        "gb = GradientBoostingRegressor(learning_rate=0.01, n_estimators=1000)\n",
        "lgbm = LGBMRegressor(boosting_type='gbdt', objective='huber', learning_rate=0.01, n_estimators=1000, metric='rmse')\n",
        "lassoreg = Lasso(alpha=0.1, normalize=True)\n",
        "ridgereg = Ridge(alpha=0.1, normalize=True)"
      ],
      "execution_count": null,
      "outputs": []
    },
    {
      "cell_type": "code",
      "metadata": {
        "id": "8ri_6BmA3JIu",
        "colab": {
          "base_uri": "https://localhost:8080/",
          "height": 185
        },
        "outputId": "1421f3d1-94f8-487a-c662-51ccdca0db90"
      },
      "source": [
        "xgb_scores = cross_val_score(xgb, X_train, y_train, cv=10)\n",
        "clf_scores = cross_val_score(clf, X_train, y_train, cv=10)\n",
        "gb_scores = cross_val_score(gb, X_train, y_train, cv=10)\n",
        "lgbm_scores = cross_val_score(lgbm, X_train, y_train, cv=10)\n",
        "lasso_scores = cross_val_score(lassoreg, X_train, y_train, cv=10)\n",
        "ridge_scores = cross_val_score(ridgereg, X_train, y_train, cv=10)"
      ],
      "execution_count": null,
      "outputs": [
        {
          "output_type": "stream",
          "text": [
            "[16:35:08] WARNING: /workspace/src/objective/regression_obj.cu:152: reg:linear is now deprecated in favor of reg:squarederror.\n",
            "[16:35:08] WARNING: /workspace/src/objective/regression_obj.cu:152: reg:linear is now deprecated in favor of reg:squarederror.\n",
            "[16:35:08] WARNING: /workspace/src/objective/regression_obj.cu:152: reg:linear is now deprecated in favor of reg:squarederror.\n",
            "[16:35:08] WARNING: /workspace/src/objective/regression_obj.cu:152: reg:linear is now deprecated in favor of reg:squarederror.\n",
            "[16:35:08] WARNING: /workspace/src/objective/regression_obj.cu:152: reg:linear is now deprecated in favor of reg:squarederror.\n",
            "[16:35:08] WARNING: /workspace/src/objective/regression_obj.cu:152: reg:linear is now deprecated in favor of reg:squarederror.\n",
            "[16:35:08] WARNING: /workspace/src/objective/regression_obj.cu:152: reg:linear is now deprecated in favor of reg:squarederror.\n",
            "[16:35:08] WARNING: /workspace/src/objective/regression_obj.cu:152: reg:linear is now deprecated in favor of reg:squarederror.\n",
            "[16:35:08] WARNING: /workspace/src/objective/regression_obj.cu:152: reg:linear is now deprecated in favor of reg:squarederror.\n",
            "[16:35:08] WARNING: /workspace/src/objective/regression_obj.cu:152: reg:linear is now deprecated in favor of reg:squarederror.\n"
          ],
          "name": "stdout"
        }
      ]
    },
    {
      "cell_type": "code",
      "metadata": {
        "id": "UKGEqHBn3JL7",
        "colab": {
          "base_uri": "https://localhost:8080/",
          "height": 118
        },
        "outputId": "3e0bac4b-7a8d-48c5-e76b-464a15fa036b"
      },
      "source": [
        "print(\"XGB Regression: \",np.mean(xgb_scores))\n",
        "print(\"Random Forest Regression: \",np.mean(clf_scores))\n",
        "print(\"Gradient Boosting Regression: \",np.mean(gb_scores))\n",
        "print(\"LGBM Regression: \",np.mean(lgbm_scores))\n",
        "print(\"Lasso Regression: \",np.mean(lasso_scores))\n",
        "print(\"Ridge Regression: \",np.mean(ridge_scores))"
      ],
      "execution_count": null,
      "outputs": [
        {
          "output_type": "stream",
          "text": [
            "XGB Regression:  0.9971160385867431\n",
            "Random Forest Regression:  0.9969622066426134\n",
            "Gradient Boosting Regression:  0.997005990022109\n",
            "LGBM Regression:  0.9249628362981449\n",
            "Lasso Regression:  0.9665356302378827\n",
            "Ridge Regression:  0.9875239555487632\n"
          ],
          "name": "stdout"
        }
      ]
    },
    {
      "cell_type": "code",
      "metadata": {
        "id": "KwccjDM_3JPS",
        "colab": {
          "base_uri": "https://localhost:8080/",
          "height": 50
        },
        "outputId": "43eaf27c-6351-4452-e29e-ca4065f91017"
      },
      "source": [
        "#LGBM gave the best results of the cross validation.\n",
        "lgbm.fit(X_train, y_train)\n",
        "pred_1 = lgbm.predict(X_test)\n",
        "print(lgbm.score(X_test, y_test))\n",
        "\n",
        "clf.fit(X_train, y_train)\n",
        "pred_2 = clf.predict(X_test)\n",
        "print(clf.score(X_test, y_test))"
      ],
      "execution_count": null,
      "outputs": [
        {
          "output_type": "stream",
          "text": [
            "0.9555856186084444\n",
            "0.9995381800167228\n"
          ],
          "name": "stdout"
        }
      ]
    },
    {
      "cell_type": "code",
      "metadata": {
        "id": "zj2eZ1M6pR3b"
      },
      "source": [
        "from sklearn.datasets import load_boston\n",
        "from sklearn.ensemble import GradientBoostingRegressor\n",
        "from sklearn.ensemble import RandomForestRegressor\n",
        "from sklearn.linear_model import LinearRegression\n",
        "from sklearn.ensemble import VotingRegressor\n",
        "\n",
        "# Loading some example data\n",
        "# X, y = load_boston(return_X_y=True)\n",
        "\n",
        "# Training classifiers\n",
        "reg1 = GradientBoostingRegressor(random_state=1, n_estimators=10)\n",
        "reg2 = RandomForestRegressor(random_state=1, n_estimators=10)\n",
        "reg3 = LinearRegression()\n",
        "ereg = VotingRegressor(estimators=[('gb', reg1), ('rf', reg2), ('lr', reg3)])\n",
        "ereg = ereg.fit(X, Y)"
      ],
      "execution_count": null,
      "outputs": []
    },
    {
      "cell_type": "code",
      "metadata": {
        "id": "l2pBgC1ypR8l"
      },
      "source": [
        "from sklearn.linear_model import RidgeCV, LassoCV\n",
        "from sklearn.svm import SVR\n",
        "estimators = [('ridge', RidgeCV()),\n",
        "               ('lasso', LassoCV(random_state=42)),\n",
        "               ('svr', SVR(C=1, gamma=1e-6))]"
      ],
      "execution_count": null,
      "outputs": []
    },
    {
      "cell_type": "code",
      "metadata": {
        "id": "IdynC9z9pR6l"
      },
      "source": [
        "from sklearn.ensemble import GradientBoostingRegressor\n",
        "from sklearn.ensemble import StackingRegressor\n",
        "reg = StackingRegressor(\n",
        "estimators=estimators,\n",
        "final_estimator=GradientBoostingRegressor(random_state=42))"
      ],
      "execution_count": null,
      "outputs": []
    },
    {
      "cell_type": "code",
      "metadata": {
        "id": "SIyTu6Z-x7aC",
        "colab": {
          "base_uri": "https://localhost:8080/",
          "height": 521
        },
        "outputId": "ab8907dc-c4a7-4baa-da89-24ae84817a04"
      },
      "source": [
        "# from sklearn.datasets import load_boston\n",
        "# X, y = load_boston(return_X_y=True)\n",
        "from sklearn.model_selection import train_test_split\n",
        "X_train, X_test, y_train, y_test = train_test_split(X, Y,random_state=42)\n",
        "                                                     \n",
        "ereg.fit(X_train, y_train)\n",
        "reg.fit(X_train,y_train)"
      ],
      "execution_count": null,
      "outputs": [
        {
          "output_type": "execute_result",
          "data": {
            "text/plain": [
              "StackingRegressor(cv=None,\n",
              "                  estimators=[('ridge',\n",
              "                               RidgeCV(alphas=array([ 0.1,  1. , 10. ]),\n",
              "                                       cv=None, fit_intercept=True,\n",
              "                                       gcv_mode=None, normalize=False,\n",
              "                                       scoring=None, store_cv_values=False)),\n",
              "                              ('lasso',\n",
              "                               LassoCV(alphas=None, copy_X=True, cv=None,\n",
              "                                       eps=0.001, fit_intercept=True,\n",
              "                                       max_iter=1000, n_alphas=100, n_jobs=None,\n",
              "                                       normalize=False, positive=False,\n",
              "                                       precompute='auto', random_s...\n",
              "                                                            max_depth=3,\n",
              "                                                            max_features=None,\n",
              "                                                            max_leaf_nodes=None,\n",
              "                                                            min_impurity_decrease=0.0,\n",
              "                                                            min_impurity_split=None,\n",
              "                                                            min_samples_leaf=1,\n",
              "                                                            min_samples_split=2,\n",
              "                                                            min_weight_fraction_leaf=0.0,\n",
              "                                                            n_estimators=100,\n",
              "                                                            n_iter_no_change=None,\n",
              "                                                            presort='deprecated',\n",
              "                                                            random_state=42,\n",
              "                                                            subsample=1.0,\n",
              "                                                            tol=0.0001,\n",
              "                                                            validation_fraction=0.1,\n",
              "                                                            verbose=0,\n",
              "                                                            warm_start=False),\n",
              "                  n_jobs=None, passthrough=False, verbose=0)"
            ]
          },
          "metadata": {
            "tags": []
          },
          "execution_count": 54
        }
      ]
    },
    {
      "cell_type": "code",
      "metadata": {
        "id": "z_G_KLH3x7c7",
        "colab": {
          "base_uri": "https://localhost:8080/",
          "height": 34
        },
        "outputId": "ffbf87bd-3807-444f-e908-8dc04f8a772a"
      },
      "source": [
        "y_pred = ereg.predict(X_test)\n",
        "y_pred=y_pred.astype(int).astype(float)\n",
        "from sklearn.metrics import r2_score\n",
        "print('R2 score: {:.2f}'.format(r2_score(y_test*1000, y_pred*1000)))"
      ],
      "execution_count": null,
      "outputs": [
        {
          "output_type": "stream",
          "text": [
            "R2 score: 0.97\n"
          ],
          "name": "stdout"
        }
      ]
    },
    {
      "cell_type": "code",
      "metadata": {
        "id": "GpEIThcix7gB",
        "colab": {
          "base_uri": "https://localhost:8080/",
          "height": 225
        },
        "outputId": "19310254-807b-4132-e282-52396a4a8df6"
      },
      "source": [
        "df = pd.DataFrame({'Actual': y_test.flatten()*1000, 'Predicted': y_pred.flatten()*1000})\n",
        "df.head(6)"
      ],
      "execution_count": null,
      "outputs": [
        {
          "output_type": "execute_result",
          "data": {
            "text/html": [
              "<div>\n",
              "<style scoped>\n",
              "    .dataframe tbody tr th:only-of-type {\n",
              "        vertical-align: middle;\n",
              "    }\n",
              "\n",
              "    .dataframe tbody tr th {\n",
              "        vertical-align: top;\n",
              "    }\n",
              "\n",
              "    .dataframe thead th {\n",
              "        text-align: right;\n",
              "    }\n",
              "</style>\n",
              "<table border=\"1\" class=\"dataframe\">\n",
              "  <thead>\n",
              "    <tr style=\"text-align: right;\">\n",
              "      <th></th>\n",
              "      <th>Actual</th>\n",
              "      <th>Predicted</th>\n",
              "    </tr>\n",
              "  </thead>\n",
              "  <tbody>\n",
              "    <tr>\n",
              "      <th>0</th>\n",
              "      <td>68070.0</td>\n",
              "      <td>67000.0</td>\n",
              "    </tr>\n",
              "    <tr>\n",
              "      <th>1</th>\n",
              "      <td>67200.0</td>\n",
              "      <td>66000.0</td>\n",
              "    </tr>\n",
              "    <tr>\n",
              "      <th>2</th>\n",
              "      <td>58300.0</td>\n",
              "      <td>58000.0</td>\n",
              "    </tr>\n",
              "    <tr>\n",
              "      <th>3</th>\n",
              "      <td>64150.0</td>\n",
              "      <td>63000.0</td>\n",
              "    </tr>\n",
              "    <tr>\n",
              "      <th>4</th>\n",
              "      <td>63230.0</td>\n",
              "      <td>62000.0</td>\n",
              "    </tr>\n",
              "    <tr>\n",
              "      <th>5</th>\n",
              "      <td>56700.0</td>\n",
              "      <td>57000.0</td>\n",
              "    </tr>\n",
              "  </tbody>\n",
              "</table>\n",
              "</div>"
            ],
            "text/plain": [
              "    Actual  Predicted\n",
              "0  68070.0    67000.0\n",
              "1  67200.0    66000.0\n",
              "2  58300.0    58000.0\n",
              "3  64150.0    63000.0\n",
              "4  63230.0    62000.0\n",
              "5  56700.0    57000.0"
            ]
          },
          "metadata": {
            "tags": []
          },
          "execution_count": 56
        }
      ]
    },
    {
      "cell_type": "markdown",
      "metadata": {
        "id": "esD7y7V8j7kQ"
      },
      "source": [
        "# Prediction"
      ]
    },
    {
      "cell_type": "code",
      "metadata": {
        "id": "kUOyaWGnkpz5",
        "colab": {
          "base_uri": "https://localhost:8080/",
          "height": 69
        },
        "outputId": "376bcfd7-a299-4554-aa1e-de58b414912d"
      },
      "source": [
        "'''gender\tssc_p\tssc_b\thsc_p\thsc_b\thsc_s\t   degree_p\tdegree_t  workex\tetest_p\tspecialisation\tmba_p\tstatus\tsalary\n",
        "     M\t    67.00\tOthers\t91.00\tOthers\tCommerce\t58.00\tSci&Tech\tNo\t      55.0\t    Mkt&HR\t    58.80\tPlaced\t350000.0\n",
        "     M\t    56.00\tCentral\t52.00\tCentral\tScience\t    52.00\tSci&Tech\tNo\t      66.0\t    Mkt&HR\t    59.43\tNot Placed\tNaN'''"
      ],
      "execution_count": null,
      "outputs": [
        {
          "output_type": "execute_result",
          "data": {
            "application/vnd.google.colaboratory.intrinsic+json": {
              "type": "string"
            },
            "text/plain": [
              "'gender\\tssc_p\\tssc_b\\thsc_p\\thsc_b\\thsc_s\\t   degree_p\\tdegree_t  workex\\tetest_p\\tspecialisation\\tmba_p\\tstatus\\tsalary\\n     M\\t    67.00\\tOthers\\t91.00\\tOthers\\tCommerce\\t58.00\\tSci&Tech\\tNo\\t      55.0\\t    Mkt&HR\\t    58.80\\tPlaced\\t270000.0\\n     M\\t    56.00\\tCentral\\t52.00\\tCentral\\tScience\\t    52.00\\tSci&Tech\\tNo\\t      66.0\\t    Mkt&HR\\t    59.43\\tNot Placed\\tNaN'"
            ]
          },
          "metadata": {
            "tags": []
          },
          "execution_count": 57
        }
      ]
    },
    {
      "cell_type": "code",
      "metadata": {
        "id": "3hTJymYom7vj"
      },
      "source": [
        "X=['M',67.00,\"Others\",91.00,\"Others\",\"Commerce\",58.00,\"Sci&Tech\",\"No\",55.0,\"Mkt&HR\",58.80]\n",
        "X2=['M', 56.00,\t\"Central\",52.00,\"Central\",\"Science\",52.00,\"Sci&Tech\",\"No\",66.0,\"Mkt&HR\",59.43]"
      ],
      "execution_count": null,
      "outputs": []
    },
    {
      "cell_type": "code",
      "metadata": {
        "id": "a9hYTCCWnThv",
        "colab": {
          "base_uri": "https://localhost:8080/",
          "height": 50
        },
        "outputId": "b56d63c7-bbff-4521-eaca-c725801d1b34"
      },
      "source": [
        "\n",
        "Y=X.copy()\n",
        "Y[0]=0 if 'M' else 1\n",
        "Y[2]=0 if \"Others\" else 1\n",
        "Y[4]=0 if \"Others\" else 1\n",
        "Y[5]=0 if \"Commerce\" else 1 if \"Science\" else 2 \n",
        "Y[7]=0 if \"Comm&Mgmt\" else 1 if \"Sci&Tech\" else 2 \n",
        "Y[8]=0 if \"No\" else 1 \n",
        "Y[10]=0 if \"Mkt&HR\" else 1\n",
        "\n",
        "Status_i=[1,3,5,6,8,9,10,11]\n",
        "Salary_i=[5,7,10,9,8,11]\n",
        "\n",
        "X_Salary=[[Y[i] for i in Salary_i]]\n",
        "X_Status=[[Y[i] for i in Status_i]]\n",
        "\n",
        "status_pred = voting_clf.predict(X_Status)\n",
        "\n",
        "if status_pred==1:\n",
        "    salary_pred=ereg.predict(X_Salary)\n",
        "    print(\"Placed with salary:\")\n",
        "    print(\"Rs\",int(salary_pred*1000),\"only\")\n",
        "else:\n",
        "    print(\"Not Placed\")"
      ],
      "execution_count": null,
      "outputs": [
        {
          "output_type": "stream",
          "text": [
            "Placed with salary:\n",
            "Rs 36414 only\n"
          ],
          "name": "stdout"
        }
      ]
    },
    {
      "cell_type": "code",
      "metadata": {
        "id": "K0Ng8MUL7tZn",
        "colab": {
          "base_uri": "https://localhost:8080/",
          "height": 34
        },
        "outputId": "6e127021-4d06-4d69-9c9f-4b1f0000fa42"
      },
      "source": [
        "\n",
        "Y=X2.copy()\n",
        "Y[0]=0 if 'M' else 1\n",
        "Y[2]=0 if \"Others\" else 1\n",
        "Y[4]=0 if \"Others\" else 1\n",
        "Y[5]=0 if \"Commerce\" else 1 if \"Science\" else 2 \n",
        "Y[7]=0 if \"Comm&Mgmt\" else 1 if \"Sci&Tech\" else 2 \n",
        "Y[8]=0 if \"No\" else 1 \n",
        "Y[10]=0 if \"Mkt&HR\" else 1\n",
        "\n",
        "Status_i=[1,3,5,6,8,9,10,11]\n",
        "Salary_i=[5,7,10,9,8,11]\n",
        "\n",
        "X_Salary=[[Y[i] for i in Salary_i]]\n",
        "X_Status=[[Y[i] for i in Status_i]]\n",
        "\n",
        "status_pred = voting_clf.predict(X_Status)\n",
        "\n",
        "if status_pred==1:\n",
        "    salary_pred=ereg.predict(X_Salary)\n",
        "    print(\"Placed with salary:\")\n",
        "    print(\"Rs\",int(salary_pred*1000),\"only\")\n",
        "else:\n",
        "    print(\"Not Placed\")"
      ],
      "execution_count": null,
      "outputs": [
        {
          "output_type": "stream",
          "text": [
            "Not Placed\n"
          ],
          "name": "stdout"
        }
      ]
    }
  ]
}